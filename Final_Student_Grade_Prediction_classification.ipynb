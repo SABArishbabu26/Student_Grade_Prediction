{
  "nbformat": 4,
  "nbformat_minor": 0,
  "metadata": {
    "colab": {
      "provenance": [],
      "collapsed_sections": [
        "1-iSITiIBUxS",
        "qM0WGBJhk4lj"
      ],
      "include_colab_link": true
    },
    "kernelspec": {
      "name": "python3",
      "display_name": "Python 3"
    },
    "language_info": {
      "name": "python"
    }
  },
  "cells": [
    {
      "cell_type": "markdown",
      "metadata": {
        "id": "view-in-github",
        "colab_type": "text"
      },
      "source": [
        "<a href=\"https://colab.research.google.com/github/SABArishbabu26/Student_Grade_Prediction/blob/main/Final_Student_Grade_Prediction_classification.ipynb\" target=\"_parent\"><img src=\"https://colab.research.google.com/assets/colab-badge.svg\" alt=\"Open In Colab\"/></a>"
      ]
    },
    {
      "cell_type": "markdown",
      "source": [
        "# **CS985: Machine Learning for Data Analytics Assignment** \n",
        ">**Task 2: Student Grade Prediction**\n",
        "\n",
        "##**Summary**\n",
        "\n",
        "><p align= \"Justify\">Education is a critical component for achieving long-term economic progress. In general, education tends to raise productivity and creativity and serve as the platform for entrepreneurship and technological breakthroughs, which boost the growth of any economy. Thus, being educated and getting good grades is paramount to individual development. This dataset describes the academic and personal characteristics of students and final grades. The objective of this task is to predict the Final Grade from the student information. This task is performed as a Supervised multiclass classification. We performed a standard machine learning model as a baseline model and ontained 0.82 performance in training and got a 0.56 score on the test dataset. Our dense deep neural network model received a Kaggle score of 0.96. This model is compared against a wide neural network and an Encoder-decoder Neural Network, and their performances are compared. This notebook also provides a critical analysis of each approach and recommendations for them.\n",
        "\n",
        "\n",
        "\n",
        "\n"
      ],
      "metadata": {
        "id": "F8sX1xbMpV8t"
      }
    },
    {
      "cell_type": "markdown",
      "source": [
        "# Dataset Analysis"
      ],
      "metadata": {
        "id": "nurvyO9CzYSg"
      }
    },
    {
      "cell_type": "markdown",
      "source": [
        "## Dataset Description\n",
        "\n",
        "\n",
        "><p align= \"Justify\">The dataset contains 20064 data points. The features in the dataset are school, sex, age, address, family size, parent's cohabitation status, mother's and father's education and job, students' guardian, travel time to school, study time, previous failures, school and family support. The dataset also contains if the student takes paid courses, participates in activities, attends nursery school and wants to go to college if they have access to the internet and the quality of family relationships and romantic relationships. The dataset also has information on the health status of the students, weekend and weekday alcohol consumption, is they have free time and go out with friends. The dataset has previous grades and final grades. This is demonstrated by the code below.\n",
        "\n",
        "\n",
        "\n",
        "\n",
        "\n"
      ],
      "metadata": {
        "id": "JnBpa7UN2TBL"
      }
    },
    {
      "cell_type": "code",
      "source": [
        "#Import Necessary Packages\n",
        "import os\n",
        "import numpy as np\n",
        "import pandas as pd\n",
        "import sklearn\n",
        "\n",
        "#Import Tensorflow and Keras\n",
        "%tensorflow_version 2.x\n",
        "import tensorflow as tf\n",
        "from tensorflow import keras\n",
        "%load_ext tensorboard"
      ],
      "metadata": {
        "colab": {
          "base_uri": "https://localhost:8080/"
        },
        "id": "5cOjM84velqa",
        "outputId": "d1291d77-2605-48a2-b8ed-3953380af641"
      },
      "execution_count": null,
      "outputs": [
        {
          "output_type": "stream",
          "name": "stdout",
          "text": [
            "The tensorboard extension is already loaded. To reload it, use:\n",
            "  %reload_ext tensorboard\n"
          ]
        }
      ]
    },
    {
      "cell_type": "markdown",
      "source": [
        ">>Necessary packages like pandas and NumPy are imported. And the TensorFlow and Keras libraries are imported and loaded."
      ],
      "metadata": {
        "id": "Y0jnrc6ceqPr"
      }
    },
    {
      "cell_type": "code",
      "source": [
        "#Load the train dataset and display the number of datapoints in the dataset\n",
        "data = pd.read_csv('train.csv')\n",
        "data.count()"
      ],
      "metadata": {
        "colab": {
          "base_uri": "https://localhost:8080/"
        },
        "id": "OpeEgE_xLp0z",
        "outputId": "f394392e-aa5f-412d-b1bb-11ae7b806b70"
      },
      "execution_count": null,
      "outputs": [
        {
          "output_type": "execute_result",
          "data": {
            "text/plain": [
              "id            20064\n",
              "school        20064\n",
              "sex           20064\n",
              "age           20064\n",
              "address       20064\n",
              "famsize       20064\n",
              "Pstatus       20064\n",
              "Medu          20064\n",
              "Fedu          20064\n",
              "Mjob          20064\n",
              "Fjob          20064\n",
              "reason        20064\n",
              "guardian      20064\n",
              "traveltime    20064\n",
              "studytime     20064\n",
              "failures      20064\n",
              "schoolsup     20064\n",
              "famsup        20064\n",
              "paid          20064\n",
              "activities    20064\n",
              "nursery       20064\n",
              "higher        20064\n",
              "internet      20064\n",
              "romantic      20064\n",
              "famrel        20064\n",
              "freetime      20064\n",
              "goout         20064\n",
              "Dalc          20064\n",
              "Walc          20064\n",
              "health        20064\n",
              "absences      20064\n",
              "G1            20064\n",
              "G2            20064\n",
              "Grade         20064\n",
              "dtype: int64"
            ]
          },
          "metadata": {},
          "execution_count": 4
        }
      ]
    },
    {
      "cell_type": "markdown",
      "source": [
        ">>The above code displays the attributes and the number of instances each attributes in the dataset. "
      ],
      "metadata": {
        "id": "X1-q_IGJe8ht"
      }
    },
    {
      "cell_type": "code",
      "source": [
        "#Display the first 5 rows in the training dataset\n",
        "data.head()"
      ],
      "metadata": {
        "colab": {
          "base_uri": "https://localhost:8080/",
          "height": 299
        },
        "id": "TrKiZbG2MfFE",
        "outputId": "6468d648-dd2f-4a92-de25-41e3903d1aa9"
      },
      "execution_count": null,
      "outputs": [
        {
          "output_type": "execute_result",
          "data": {
            "text/plain": [
              "   id school sex  age address famsize Pstatus  Medu  Fedu      Mjob  ...  \\\n",
              "0   0     GP   F   16       U     GT3       A     0     3   teacher  ...   \n",
              "1   1     MS   M   17       U     GT3       T     4     0     other  ...   \n",
              "2   2     MS   F   17       U     LE3       T     1     0  services  ...   \n",
              "3   3     GP   M   17       R     LE3       T     2     2    health  ...   \n",
              "4   4     MS   F   14       R     LE3       T     0     1    health  ...   \n",
              "\n",
              "  famrel freetime goout  Dalc  Walc  health absences  G1  G2 Grade  \n",
              "0      5        4     2     1     0       4        2   8  13     7  \n",
              "1      4        2     4     2     2       1       28  12  10    12  \n",
              "2      4        4     2     1     2       2        3  11   9     8  \n",
              "3      2        4     2     2     2       4        2  16  15     9  \n",
              "4      3        3     2     2     1       4        0   9  14     8  \n",
              "\n",
              "[5 rows x 34 columns]"
            ],
            "text/html": [
              "\n",
              "  <div id=\"df-e29bf759-5e20-4b14-92af-afe9905683ed\">\n",
              "    <div class=\"colab-df-container\">\n",
              "      <div>\n",
              "<style scoped>\n",
              "    .dataframe tbody tr th:only-of-type {\n",
              "        vertical-align: middle;\n",
              "    }\n",
              "\n",
              "    .dataframe tbody tr th {\n",
              "        vertical-align: top;\n",
              "    }\n",
              "\n",
              "    .dataframe thead th {\n",
              "        text-align: right;\n",
              "    }\n",
              "</style>\n",
              "<table border=\"1\" class=\"dataframe\">\n",
              "  <thead>\n",
              "    <tr style=\"text-align: right;\">\n",
              "      <th></th>\n",
              "      <th>id</th>\n",
              "      <th>school</th>\n",
              "      <th>sex</th>\n",
              "      <th>age</th>\n",
              "      <th>address</th>\n",
              "      <th>famsize</th>\n",
              "      <th>Pstatus</th>\n",
              "      <th>Medu</th>\n",
              "      <th>Fedu</th>\n",
              "      <th>Mjob</th>\n",
              "      <th>...</th>\n",
              "      <th>famrel</th>\n",
              "      <th>freetime</th>\n",
              "      <th>goout</th>\n",
              "      <th>Dalc</th>\n",
              "      <th>Walc</th>\n",
              "      <th>health</th>\n",
              "      <th>absences</th>\n",
              "      <th>G1</th>\n",
              "      <th>G2</th>\n",
              "      <th>Grade</th>\n",
              "    </tr>\n",
              "  </thead>\n",
              "  <tbody>\n",
              "    <tr>\n",
              "      <th>0</th>\n",
              "      <td>0</td>\n",
              "      <td>GP</td>\n",
              "      <td>F</td>\n",
              "      <td>16</td>\n",
              "      <td>U</td>\n",
              "      <td>GT3</td>\n",
              "      <td>A</td>\n",
              "      <td>0</td>\n",
              "      <td>3</td>\n",
              "      <td>teacher</td>\n",
              "      <td>...</td>\n",
              "      <td>5</td>\n",
              "      <td>4</td>\n",
              "      <td>2</td>\n",
              "      <td>1</td>\n",
              "      <td>0</td>\n",
              "      <td>4</td>\n",
              "      <td>2</td>\n",
              "      <td>8</td>\n",
              "      <td>13</td>\n",
              "      <td>7</td>\n",
              "    </tr>\n",
              "    <tr>\n",
              "      <th>1</th>\n",
              "      <td>1</td>\n",
              "      <td>MS</td>\n",
              "      <td>M</td>\n",
              "      <td>17</td>\n",
              "      <td>U</td>\n",
              "      <td>GT3</td>\n",
              "      <td>T</td>\n",
              "      <td>4</td>\n",
              "      <td>0</td>\n",
              "      <td>other</td>\n",
              "      <td>...</td>\n",
              "      <td>4</td>\n",
              "      <td>2</td>\n",
              "      <td>4</td>\n",
              "      <td>2</td>\n",
              "      <td>2</td>\n",
              "      <td>1</td>\n",
              "      <td>28</td>\n",
              "      <td>12</td>\n",
              "      <td>10</td>\n",
              "      <td>12</td>\n",
              "    </tr>\n",
              "    <tr>\n",
              "      <th>2</th>\n",
              "      <td>2</td>\n",
              "      <td>MS</td>\n",
              "      <td>F</td>\n",
              "      <td>17</td>\n",
              "      <td>U</td>\n",
              "      <td>LE3</td>\n",
              "      <td>T</td>\n",
              "      <td>1</td>\n",
              "      <td>0</td>\n",
              "      <td>services</td>\n",
              "      <td>...</td>\n",
              "      <td>4</td>\n",
              "      <td>4</td>\n",
              "      <td>2</td>\n",
              "      <td>1</td>\n",
              "      <td>2</td>\n",
              "      <td>2</td>\n",
              "      <td>3</td>\n",
              "      <td>11</td>\n",
              "      <td>9</td>\n",
              "      <td>8</td>\n",
              "    </tr>\n",
              "    <tr>\n",
              "      <th>3</th>\n",
              "      <td>3</td>\n",
              "      <td>GP</td>\n",
              "      <td>M</td>\n",
              "      <td>17</td>\n",
              "      <td>R</td>\n",
              "      <td>LE3</td>\n",
              "      <td>T</td>\n",
              "      <td>2</td>\n",
              "      <td>2</td>\n",
              "      <td>health</td>\n",
              "      <td>...</td>\n",
              "      <td>2</td>\n",
              "      <td>4</td>\n",
              "      <td>2</td>\n",
              "      <td>2</td>\n",
              "      <td>2</td>\n",
              "      <td>4</td>\n",
              "      <td>2</td>\n",
              "      <td>16</td>\n",
              "      <td>15</td>\n",
              "      <td>9</td>\n",
              "    </tr>\n",
              "    <tr>\n",
              "      <th>4</th>\n",
              "      <td>4</td>\n",
              "      <td>MS</td>\n",
              "      <td>F</td>\n",
              "      <td>14</td>\n",
              "      <td>R</td>\n",
              "      <td>LE3</td>\n",
              "      <td>T</td>\n",
              "      <td>0</td>\n",
              "      <td>1</td>\n",
              "      <td>health</td>\n",
              "      <td>...</td>\n",
              "      <td>3</td>\n",
              "      <td>3</td>\n",
              "      <td>2</td>\n",
              "      <td>2</td>\n",
              "      <td>1</td>\n",
              "      <td>4</td>\n",
              "      <td>0</td>\n",
              "      <td>9</td>\n",
              "      <td>14</td>\n",
              "      <td>8</td>\n",
              "    </tr>\n",
              "  </tbody>\n",
              "</table>\n",
              "<p>5 rows × 34 columns</p>\n",
              "</div>\n",
              "      <button class=\"colab-df-convert\" onclick=\"convertToInteractive('df-e29bf759-5e20-4b14-92af-afe9905683ed')\"\n",
              "              title=\"Convert this dataframe to an interactive table.\"\n",
              "              style=\"display:none;\">\n",
              "        \n",
              "  <svg xmlns=\"http://www.w3.org/2000/svg\" height=\"24px\"viewBox=\"0 0 24 24\"\n",
              "       width=\"24px\">\n",
              "    <path d=\"M0 0h24v24H0V0z\" fill=\"none\"/>\n",
              "    <path d=\"M18.56 5.44l.94 2.06.94-2.06 2.06-.94-2.06-.94-.94-2.06-.94 2.06-2.06.94zm-11 1L8.5 8.5l.94-2.06 2.06-.94-2.06-.94L8.5 2.5l-.94 2.06-2.06.94zm10 10l.94 2.06.94-2.06 2.06-.94-2.06-.94-.94-2.06-.94 2.06-2.06.94z\"/><path d=\"M17.41 7.96l-1.37-1.37c-.4-.4-.92-.59-1.43-.59-.52 0-1.04.2-1.43.59L10.3 9.45l-7.72 7.72c-.78.78-.78 2.05 0 2.83L4 21.41c.39.39.9.59 1.41.59.51 0 1.02-.2 1.41-.59l7.78-7.78 2.81-2.81c.8-.78.8-2.07 0-2.86zM5.41 20L4 18.59l7.72-7.72 1.47 1.35L5.41 20z\"/>\n",
              "  </svg>\n",
              "      </button>\n",
              "      \n",
              "  <style>\n",
              "    .colab-df-container {\n",
              "      display:flex;\n",
              "      flex-wrap:wrap;\n",
              "      gap: 12px;\n",
              "    }\n",
              "\n",
              "    .colab-df-convert {\n",
              "      background-color: #E8F0FE;\n",
              "      border: none;\n",
              "      border-radius: 50%;\n",
              "      cursor: pointer;\n",
              "      display: none;\n",
              "      fill: #1967D2;\n",
              "      height: 32px;\n",
              "      padding: 0 0 0 0;\n",
              "      width: 32px;\n",
              "    }\n",
              "\n",
              "    .colab-df-convert:hover {\n",
              "      background-color: #E2EBFA;\n",
              "      box-shadow: 0px 1px 2px rgba(60, 64, 67, 0.3), 0px 1px 3px 1px rgba(60, 64, 67, 0.15);\n",
              "      fill: #174EA6;\n",
              "    }\n",
              "\n",
              "    [theme=dark] .colab-df-convert {\n",
              "      background-color: #3B4455;\n",
              "      fill: #D2E3FC;\n",
              "    }\n",
              "\n",
              "    [theme=dark] .colab-df-convert:hover {\n",
              "      background-color: #434B5C;\n",
              "      box-shadow: 0px 1px 3px 1px rgba(0, 0, 0, 0.15);\n",
              "      filter: drop-shadow(0px 1px 2px rgba(0, 0, 0, 0.3));\n",
              "      fill: #FFFFFF;\n",
              "    }\n",
              "  </style>\n",
              "\n",
              "      <script>\n",
              "        const buttonEl =\n",
              "          document.querySelector('#df-e29bf759-5e20-4b14-92af-afe9905683ed button.colab-df-convert');\n",
              "        buttonEl.style.display =\n",
              "          google.colab.kernel.accessAllowed ? 'block' : 'none';\n",
              "\n",
              "        async function convertToInteractive(key) {\n",
              "          const element = document.querySelector('#df-e29bf759-5e20-4b14-92af-afe9905683ed');\n",
              "          const dataTable =\n",
              "            await google.colab.kernel.invokeFunction('convertToInteractive',\n",
              "                                                     [key], {});\n",
              "          if (!dataTable) return;\n",
              "\n",
              "          const docLinkHtml = 'Like what you see? Visit the ' +\n",
              "            '<a target=\"_blank\" href=https://colab.research.google.com/notebooks/data_table.ipynb>data table notebook</a>'\n",
              "            + ' to learn more about interactive tables.';\n",
              "          element.innerHTML = '';\n",
              "          dataTable['output_type'] = 'display_data';\n",
              "          await google.colab.output.renderOutput(dataTable, element);\n",
              "          const docLink = document.createElement('div');\n",
              "          docLink.innerHTML = docLinkHtml;\n",
              "          element.appendChild(docLink);\n",
              "        }\n",
              "      </script>\n",
              "    </div>\n",
              "  </div>\n",
              "  "
            ]
          },
          "metadata": {},
          "execution_count": 5
        }
      ]
    },
    {
      "cell_type": "markdown",
      "source": [
        ">>The above code section helps us visualise the structure of the dataset."
      ],
      "metadata": {
        "id": "MZWzVh9PfOh2"
      }
    },
    {
      "cell_type": "code",
      "source": [
        "#Display the list of attributes and its datatypes\n",
        "data.info()"
      ],
      "metadata": {
        "colab": {
          "base_uri": "https://localhost:8080/"
        },
        "id": "QqSgFtW2Mv2v",
        "outputId": "98163b9e-ec11-42c3-a824-5b1a6c6135bc"
      },
      "execution_count": null,
      "outputs": [
        {
          "output_type": "stream",
          "name": "stdout",
          "text": [
            "<class 'pandas.core.frame.DataFrame'>\n",
            "RangeIndex: 20064 entries, 0 to 20063\n",
            "Data columns (total 34 columns):\n",
            " #   Column      Non-Null Count  Dtype \n",
            "---  ------      --------------  ----- \n",
            " 0   id          20064 non-null  int64 \n",
            " 1   school      20064 non-null  object\n",
            " 2   sex         20064 non-null  object\n",
            " 3   age         20064 non-null  int64 \n",
            " 4   address     20064 non-null  object\n",
            " 5   famsize     20064 non-null  object\n",
            " 6   Pstatus     20064 non-null  object\n",
            " 7   Medu        20064 non-null  int64 \n",
            " 8   Fedu        20064 non-null  int64 \n",
            " 9   Mjob        20064 non-null  object\n",
            " 10  Fjob        20064 non-null  object\n",
            " 11  reason      20064 non-null  object\n",
            " 12  guardian    20064 non-null  object\n",
            " 13  traveltime  20064 non-null  int64 \n",
            " 14  studytime   20064 non-null  int64 \n",
            " 15  failures    20064 non-null  int64 \n",
            " 16  schoolsup   20064 non-null  object\n",
            " 17  famsup      20064 non-null  object\n",
            " 18  paid        20064 non-null  object\n",
            " 19  activities  20064 non-null  object\n",
            " 20  nursery     20064 non-null  object\n",
            " 21  higher      20064 non-null  object\n",
            " 22  internet    20064 non-null  object\n",
            " 23  romantic    20064 non-null  object\n",
            " 24  famrel      20064 non-null  int64 \n",
            " 25  freetime    20064 non-null  int64 \n",
            " 26  goout       20064 non-null  int64 \n",
            " 27  Dalc        20064 non-null  int64 \n",
            " 28  Walc        20064 non-null  int64 \n",
            " 29  health      20064 non-null  int64 \n",
            " 30  absences    20064 non-null  int64 \n",
            " 31  G1          20064 non-null  int64 \n",
            " 32  G2          20064 non-null  int64 \n",
            " 33  Grade       20064 non-null  int64 \n",
            "dtypes: int64(17), object(17)\n",
            "memory usage: 5.2+ MB\n"
          ]
        }
      ]
    },
    {
      "cell_type": "markdown",
      "source": [
        ">>The above code section helps us view the overall information of the dataset like the attributes, number of instances of each attribute and its datatypes."
      ],
      "metadata": {
        "id": "l2pgQGJMfaPC"
      }
    },
    {
      "cell_type": "code",
      "source": [
        "#Find the mean and standard deviation of the data\n",
        "data.describe().T"
      ],
      "metadata": {
        "colab": {
          "base_uri": "https://localhost:8080/",
          "height": 582
        },
        "id": "fDFlZfHiM5Jz",
        "outputId": "661bc52a-2c13-41c7-afbb-fd0686c0cf7d"
      },
      "execution_count": null,
      "outputs": [
        {
          "output_type": "execute_result",
          "data": {
            "text/plain": [
              "              count          mean          std   min      25%      50%  \\\n",
              "id          20064.0  10031.500000  5792.122236   0.0  5015.75  10031.5   \n",
              "age         20064.0     15.649970     1.204188  14.0    15.00     16.0   \n",
              "Medu        20064.0      2.532197     1.128737   0.0     2.00      3.0   \n",
              "Fedu        20064.0      1.551585     1.036555   0.0     1.00      1.0   \n",
              "traveltime  20064.0      1.705891     1.117113   0.0     1.00      1.0   \n",
              "studytime   20064.0      1.541368     0.993014   0.0     1.00      1.0   \n",
              "failures    20064.0      0.134619     0.460545   0.0     0.00      0.0   \n",
              "famrel      20064.0      3.939593     0.871920   0.0     4.00      4.0   \n",
              "freetime    20064.0      2.850778     1.143260   0.0     2.00      3.0   \n",
              "goout       20064.0      2.174043     1.256756   0.0     1.00      2.0   \n",
              "Dalc        20064.0      1.812450     1.483721   0.0     1.00      1.0   \n",
              "Walc        20064.0      1.956788     1.392719   0.0     1.00      2.0   \n",
              "health      20064.0      2.832137     1.437471   0.0     2.00      3.0   \n",
              "absences    20064.0      2.009270     3.505567   0.0     0.00      1.0   \n",
              "G1          20064.0     13.905702     3.265775   0.0    12.00     14.0   \n",
              "G2          20064.0     12.252043     3.474807   0.0    10.00     12.0   \n",
              "Grade       20064.0      9.024771     1.311570   5.0     8.00      9.0   \n",
              "\n",
              "                 75%      max  \n",
              "id          15047.25  20063.0  \n",
              "age            16.00     21.0  \n",
              "Medu            3.00      4.0  \n",
              "Fedu            2.00      4.0  \n",
              "traveltime      2.00      6.0  \n",
              "studytime       2.00      5.0  \n",
              "failures        0.00      4.0  \n",
              "famrel          5.00      5.0  \n",
              "freetime        4.00      5.0  \n",
              "goout           3.00      5.0  \n",
              "Dalc            2.00      7.0  \n",
              "Walc            3.00      6.0  \n",
              "health          4.00      5.0  \n",
              "absences        3.00     39.0  \n",
              "G1             16.00     22.0  \n",
              "G2             15.00     22.0  \n",
              "Grade           9.00     18.0  "
            ],
            "text/html": [
              "\n",
              "  <div id=\"df-002b5e03-4fe9-4321-9617-369c156cb56f\">\n",
              "    <div class=\"colab-df-container\">\n",
              "      <div>\n",
              "<style scoped>\n",
              "    .dataframe tbody tr th:only-of-type {\n",
              "        vertical-align: middle;\n",
              "    }\n",
              "\n",
              "    .dataframe tbody tr th {\n",
              "        vertical-align: top;\n",
              "    }\n",
              "\n",
              "    .dataframe thead th {\n",
              "        text-align: right;\n",
              "    }\n",
              "</style>\n",
              "<table border=\"1\" class=\"dataframe\">\n",
              "  <thead>\n",
              "    <tr style=\"text-align: right;\">\n",
              "      <th></th>\n",
              "      <th>count</th>\n",
              "      <th>mean</th>\n",
              "      <th>std</th>\n",
              "      <th>min</th>\n",
              "      <th>25%</th>\n",
              "      <th>50%</th>\n",
              "      <th>75%</th>\n",
              "      <th>max</th>\n",
              "    </tr>\n",
              "  </thead>\n",
              "  <tbody>\n",
              "    <tr>\n",
              "      <th>id</th>\n",
              "      <td>20064.0</td>\n",
              "      <td>10031.500000</td>\n",
              "      <td>5792.122236</td>\n",
              "      <td>0.0</td>\n",
              "      <td>5015.75</td>\n",
              "      <td>10031.5</td>\n",
              "      <td>15047.25</td>\n",
              "      <td>20063.0</td>\n",
              "    </tr>\n",
              "    <tr>\n",
              "      <th>age</th>\n",
              "      <td>20064.0</td>\n",
              "      <td>15.649970</td>\n",
              "      <td>1.204188</td>\n",
              "      <td>14.0</td>\n",
              "      <td>15.00</td>\n",
              "      <td>16.0</td>\n",
              "      <td>16.00</td>\n",
              "      <td>21.0</td>\n",
              "    </tr>\n",
              "    <tr>\n",
              "      <th>Medu</th>\n",
              "      <td>20064.0</td>\n",
              "      <td>2.532197</td>\n",
              "      <td>1.128737</td>\n",
              "      <td>0.0</td>\n",
              "      <td>2.00</td>\n",
              "      <td>3.0</td>\n",
              "      <td>3.00</td>\n",
              "      <td>4.0</td>\n",
              "    </tr>\n",
              "    <tr>\n",
              "      <th>Fedu</th>\n",
              "      <td>20064.0</td>\n",
              "      <td>1.551585</td>\n",
              "      <td>1.036555</td>\n",
              "      <td>0.0</td>\n",
              "      <td>1.00</td>\n",
              "      <td>1.0</td>\n",
              "      <td>2.00</td>\n",
              "      <td>4.0</td>\n",
              "    </tr>\n",
              "    <tr>\n",
              "      <th>traveltime</th>\n",
              "      <td>20064.0</td>\n",
              "      <td>1.705891</td>\n",
              "      <td>1.117113</td>\n",
              "      <td>0.0</td>\n",
              "      <td>1.00</td>\n",
              "      <td>1.0</td>\n",
              "      <td>2.00</td>\n",
              "      <td>6.0</td>\n",
              "    </tr>\n",
              "    <tr>\n",
              "      <th>studytime</th>\n",
              "      <td>20064.0</td>\n",
              "      <td>1.541368</td>\n",
              "      <td>0.993014</td>\n",
              "      <td>0.0</td>\n",
              "      <td>1.00</td>\n",
              "      <td>1.0</td>\n",
              "      <td>2.00</td>\n",
              "      <td>5.0</td>\n",
              "    </tr>\n",
              "    <tr>\n",
              "      <th>failures</th>\n",
              "      <td>20064.0</td>\n",
              "      <td>0.134619</td>\n",
              "      <td>0.460545</td>\n",
              "      <td>0.0</td>\n",
              "      <td>0.00</td>\n",
              "      <td>0.0</td>\n",
              "      <td>0.00</td>\n",
              "      <td>4.0</td>\n",
              "    </tr>\n",
              "    <tr>\n",
              "      <th>famrel</th>\n",
              "      <td>20064.0</td>\n",
              "      <td>3.939593</td>\n",
              "      <td>0.871920</td>\n",
              "      <td>0.0</td>\n",
              "      <td>4.00</td>\n",
              "      <td>4.0</td>\n",
              "      <td>5.00</td>\n",
              "      <td>5.0</td>\n",
              "    </tr>\n",
              "    <tr>\n",
              "      <th>freetime</th>\n",
              "      <td>20064.0</td>\n",
              "      <td>2.850778</td>\n",
              "      <td>1.143260</td>\n",
              "      <td>0.0</td>\n",
              "      <td>2.00</td>\n",
              "      <td>3.0</td>\n",
              "      <td>4.00</td>\n",
              "      <td>5.0</td>\n",
              "    </tr>\n",
              "    <tr>\n",
              "      <th>goout</th>\n",
              "      <td>20064.0</td>\n",
              "      <td>2.174043</td>\n",
              "      <td>1.256756</td>\n",
              "      <td>0.0</td>\n",
              "      <td>1.00</td>\n",
              "      <td>2.0</td>\n",
              "      <td>3.00</td>\n",
              "      <td>5.0</td>\n",
              "    </tr>\n",
              "    <tr>\n",
              "      <th>Dalc</th>\n",
              "      <td>20064.0</td>\n",
              "      <td>1.812450</td>\n",
              "      <td>1.483721</td>\n",
              "      <td>0.0</td>\n",
              "      <td>1.00</td>\n",
              "      <td>1.0</td>\n",
              "      <td>2.00</td>\n",
              "      <td>7.0</td>\n",
              "    </tr>\n",
              "    <tr>\n",
              "      <th>Walc</th>\n",
              "      <td>20064.0</td>\n",
              "      <td>1.956788</td>\n",
              "      <td>1.392719</td>\n",
              "      <td>0.0</td>\n",
              "      <td>1.00</td>\n",
              "      <td>2.0</td>\n",
              "      <td>3.00</td>\n",
              "      <td>6.0</td>\n",
              "    </tr>\n",
              "    <tr>\n",
              "      <th>health</th>\n",
              "      <td>20064.0</td>\n",
              "      <td>2.832137</td>\n",
              "      <td>1.437471</td>\n",
              "      <td>0.0</td>\n",
              "      <td>2.00</td>\n",
              "      <td>3.0</td>\n",
              "      <td>4.00</td>\n",
              "      <td>5.0</td>\n",
              "    </tr>\n",
              "    <tr>\n",
              "      <th>absences</th>\n",
              "      <td>20064.0</td>\n",
              "      <td>2.009270</td>\n",
              "      <td>3.505567</td>\n",
              "      <td>0.0</td>\n",
              "      <td>0.00</td>\n",
              "      <td>1.0</td>\n",
              "      <td>3.00</td>\n",
              "      <td>39.0</td>\n",
              "    </tr>\n",
              "    <tr>\n",
              "      <th>G1</th>\n",
              "      <td>20064.0</td>\n",
              "      <td>13.905702</td>\n",
              "      <td>3.265775</td>\n",
              "      <td>0.0</td>\n",
              "      <td>12.00</td>\n",
              "      <td>14.0</td>\n",
              "      <td>16.00</td>\n",
              "      <td>22.0</td>\n",
              "    </tr>\n",
              "    <tr>\n",
              "      <th>G2</th>\n",
              "      <td>20064.0</td>\n",
              "      <td>12.252043</td>\n",
              "      <td>3.474807</td>\n",
              "      <td>0.0</td>\n",
              "      <td>10.00</td>\n",
              "      <td>12.0</td>\n",
              "      <td>15.00</td>\n",
              "      <td>22.0</td>\n",
              "    </tr>\n",
              "    <tr>\n",
              "      <th>Grade</th>\n",
              "      <td>20064.0</td>\n",
              "      <td>9.024771</td>\n",
              "      <td>1.311570</td>\n",
              "      <td>5.0</td>\n",
              "      <td>8.00</td>\n",
              "      <td>9.0</td>\n",
              "      <td>9.00</td>\n",
              "      <td>18.0</td>\n",
              "    </tr>\n",
              "  </tbody>\n",
              "</table>\n",
              "</div>\n",
              "      <button class=\"colab-df-convert\" onclick=\"convertToInteractive('df-002b5e03-4fe9-4321-9617-369c156cb56f')\"\n",
              "              title=\"Convert this dataframe to an interactive table.\"\n",
              "              style=\"display:none;\">\n",
              "        \n",
              "  <svg xmlns=\"http://www.w3.org/2000/svg\" height=\"24px\"viewBox=\"0 0 24 24\"\n",
              "       width=\"24px\">\n",
              "    <path d=\"M0 0h24v24H0V0z\" fill=\"none\"/>\n",
              "    <path d=\"M18.56 5.44l.94 2.06.94-2.06 2.06-.94-2.06-.94-.94-2.06-.94 2.06-2.06.94zm-11 1L8.5 8.5l.94-2.06 2.06-.94-2.06-.94L8.5 2.5l-.94 2.06-2.06.94zm10 10l.94 2.06.94-2.06 2.06-.94-2.06-.94-.94-2.06-.94 2.06-2.06.94z\"/><path d=\"M17.41 7.96l-1.37-1.37c-.4-.4-.92-.59-1.43-.59-.52 0-1.04.2-1.43.59L10.3 9.45l-7.72 7.72c-.78.78-.78 2.05 0 2.83L4 21.41c.39.39.9.59 1.41.59.51 0 1.02-.2 1.41-.59l7.78-7.78 2.81-2.81c.8-.78.8-2.07 0-2.86zM5.41 20L4 18.59l7.72-7.72 1.47 1.35L5.41 20z\"/>\n",
              "  </svg>\n",
              "      </button>\n",
              "      \n",
              "  <style>\n",
              "    .colab-df-container {\n",
              "      display:flex;\n",
              "      flex-wrap:wrap;\n",
              "      gap: 12px;\n",
              "    }\n",
              "\n",
              "    .colab-df-convert {\n",
              "      background-color: #E8F0FE;\n",
              "      border: none;\n",
              "      border-radius: 50%;\n",
              "      cursor: pointer;\n",
              "      display: none;\n",
              "      fill: #1967D2;\n",
              "      height: 32px;\n",
              "      padding: 0 0 0 0;\n",
              "      width: 32px;\n",
              "    }\n",
              "\n",
              "    .colab-df-convert:hover {\n",
              "      background-color: #E2EBFA;\n",
              "      box-shadow: 0px 1px 2px rgba(60, 64, 67, 0.3), 0px 1px 3px 1px rgba(60, 64, 67, 0.15);\n",
              "      fill: #174EA6;\n",
              "    }\n",
              "\n",
              "    [theme=dark] .colab-df-convert {\n",
              "      background-color: #3B4455;\n",
              "      fill: #D2E3FC;\n",
              "    }\n",
              "\n",
              "    [theme=dark] .colab-df-convert:hover {\n",
              "      background-color: #434B5C;\n",
              "      box-shadow: 0px 1px 3px 1px rgba(0, 0, 0, 0.15);\n",
              "      filter: drop-shadow(0px 1px 2px rgba(0, 0, 0, 0.3));\n",
              "      fill: #FFFFFF;\n",
              "    }\n",
              "  </style>\n",
              "\n",
              "      <script>\n",
              "        const buttonEl =\n",
              "          document.querySelector('#df-002b5e03-4fe9-4321-9617-369c156cb56f button.colab-df-convert');\n",
              "        buttonEl.style.display =\n",
              "          google.colab.kernel.accessAllowed ? 'block' : 'none';\n",
              "\n",
              "        async function convertToInteractive(key) {\n",
              "          const element = document.querySelector('#df-002b5e03-4fe9-4321-9617-369c156cb56f');\n",
              "          const dataTable =\n",
              "            await google.colab.kernel.invokeFunction('convertToInteractive',\n",
              "                                                     [key], {});\n",
              "          if (!dataTable) return;\n",
              "\n",
              "          const docLinkHtml = 'Like what you see? Visit the ' +\n",
              "            '<a target=\"_blank\" href=https://colab.research.google.com/notebooks/data_table.ipynb>data table notebook</a>'\n",
              "            + ' to learn more about interactive tables.';\n",
              "          element.innerHTML = '';\n",
              "          dataTable['output_type'] = 'display_data';\n",
              "          await google.colab.output.renderOutput(dataTable, element);\n",
              "          const docLink = document.createElement('div');\n",
              "          docLink.innerHTML = docLinkHtml;\n",
              "          element.appendChild(docLink);\n",
              "        }\n",
              "      </script>\n",
              "    </div>\n",
              "  </div>\n",
              "  "
            ]
          },
          "metadata": {},
          "execution_count": 7
        }
      ]
    },
    {
      "cell_type": "markdown",
      "source": [
        ">>The above code provides us with information like mean, standard deviation, and quartiles."
      ],
      "metadata": {
        "id": "vqYq3iCr9k3a"
      }
    },
    {
      "cell_type": "code",
      "source": [
        "#Display the count of unique grades\n",
        "data[\"Grade\"].value_counts()"
      ],
      "metadata": {
        "colab": {
          "base_uri": "https://localhost:8080/"
        },
        "id": "paRKEa4Ng51n",
        "outputId": "3ccaa31c-53b2-4fbd-cfa4-517ac777425b"
      },
      "execution_count": null,
      "outputs": [
        {
          "output_type": "execute_result",
          "data": {
            "text/plain": [
              "9     10564\n",
              "8      4857\n",
              "10     1616\n",
              "11     1133\n",
              "7       746\n",
              "13      456\n",
              "14      310\n",
              "6       229\n",
              "12       80\n",
              "5        47\n",
              "18       19\n",
              "17        5\n",
              "16        2\n",
              "Name: Grade, dtype: int64"
            ]
          },
          "metadata": {},
          "execution_count": 8
        }
      ]
    },
    {
      "cell_type": "markdown",
      "source": [
        ">><p align= \"Justify\">The code above displays the grades distribution in the training dataset. We can observe that the dataset is imbalanced, where grade 9 is the grade obtained by the maximum number of students, and very few students have 16, 17, and 18 grades. "
      ],
      "metadata": {
        "id": "lhW8EvOMgAlM"
      }
    },
    {
      "cell_type": "markdown",
      "source": [
        "## Histogram Distribution \n",
        "\n",
        "><p align= \"Justify\">The data is visualised using histogram distribution on the dataset. This helps us see how the information is distributed for the attributes like age, mother and father's education etc. \n"
      ],
      "metadata": {
        "id": "bZTuzZnP-V4c"
      }
    },
    {
      "cell_type": "code",
      "source": [
        "#Frequency distribution of attributes in the dataset\n",
        "import matplotlib.pyplot as plt\n",
        "data.hist(bins=25, figsize=(20,20))\n",
        "plt.show()"
      ],
      "metadata": {
        "colab": {
          "base_uri": "https://localhost:8080/",
          "height": 1000
        },
        "id": "cv2Cxwp8NF5h",
        "outputId": "c399a49c-d523-432b-9840-33fe5b743011"
      },
      "execution_count": null,
      "outputs": [
        {
          "output_type": "display_data",
          "data": {
            "text/plain": [
              "<Figure size 1440x1440 with 20 Axes>"
            ],
            "image/png": "[encoded data removed]"
          },
          "metadata": {
            "needs_background": "light"
          }
        }
      ]
    },
    {
      "cell_type": "markdown",
      "source": [
        ">>We can see that the distribution is heavily skewed to one side for most of the instances. This will be addressed by scaling later."
      ],
      "metadata": {
        "id": "4aTRdxOvhQYn"
      }
    },
    {
      "cell_type": "markdown",
      "source": [
        "## Linear Correlation  \n",
        "\n",
        "><p align= \"Justify\">The Linear Correlation Matrix demonstrates the correlation between the dataset's attributes. We can observe the linear correlation between all the features. This is visualised using a heat map. \n",
        "\n",
        "\n",
        "\n",
        "\n"
      ],
      "metadata": {
        "id": "4hWseImRAODr"
      }
    },
    {
      "cell_type": "code",
      "source": [
        "#Display the linear Correlation Matrix\n",
        "import seaborn as sns \n",
        "corrInx=data.corr()\n",
        "top_corrInx=corrInx.index\n",
        "plt.figure(figsize=(15,15))\n",
        "plt.title('Linear Correlation Matrix')\n",
        "sns.heatmap(data[top_corrInx].corr(), annot=True, cmap='RdYlGn')"
      ],
      "metadata": {
        "colab": {
          "base_uri": "https://localhost:8080/",
          "height": 939
        },
        "id": "-bxy4efaNgbG",
        "outputId": "52eb3456-e2c3-4ae4-e693-3311bb927a31"
      },
      "execution_count": null,
      "outputs": [
        {
          "output_type": "execute_result",
          "data": {
            "text/plain": [
              "<matplotlib.axes._subplots.AxesSubplot at 0x7fdc02dfc1d0>"
            ]
          },
          "metadata": {},
          "execution_count": 10
        },
        {
          "output_type": "display_data",
          "data": {
            "text/plain": [
              "<Figure size 1080x1080 with 2 Axes>"
            ],
            "image/png": "[encoded data removed]"
          },
          "metadata": {
            "needs_background": "light"
          }
        }
      ]
    },
    {
      "cell_type": "markdown",
      "source": [
        ">>Some of the observations from the box plot above are:\n",
        "\n",
        "\n",
        ">>1.   Study time attribute is highly correlated with the final grade.\n",
        ">>2.   Failures attribute is highly inverse correlated with the final grade.\n",
        ">>3.   The rest of the attributes doesn’t correlate much with the target grade."
      ],
      "metadata": {
        "id": "HobcldePhEII"
      }
    },
    {
      "cell_type": "markdown",
      "source": [
        "# Data Pre-processing"
      ],
      "metadata": {
        "id": "XcUsF7ANht1m"
      }
    },
    {
      "cell_type": "markdown",
      "source": [
        "## Encoding the Dataset\n",
        "\n",
        "><p align= \"Justify\">Most general deep learning models cannot take labels as input or give out labels as the output. Since some attributes like school, address, mother's job etc., have categorical data, these have to be encoded to use the neural network for training. This is performed using the pandas library's get_dummies function. We don't use the one-hot encoder function from the scikit library because it's a bit slow compared to the get_dummies method and does not have any significant advantage when training this dataset. \n",
        "\n",
        "><p align= \"Justify\">Label encoding is performed on the target grades so that the DNN models can classify them. The use of label encoding over one-hot encoding is due to lower complexity in execution while not producing a significant performance increase in this particular dataset."
      ],
      "metadata": {
        "id": "1-iSITiIBUxS"
      }
    },
    {
      "cell_type": "code",
      "source": [
        "#select and display the attributes with object dataset\n",
        "object_data = data.select_dtypes(include=['object']).copy()\n",
        "object_data.head()"
      ],
      "metadata": {
        "colab": {
          "base_uri": "https://localhost:8080/",
          "height": 200
        },
        "id": "Kdk_uwHiXKOX",
        "outputId": "f2af6731-6811-4218-fff9-673ee4782131"
      },
      "execution_count": null,
      "outputs": [
        {
          "output_type": "error",
          "ename": "NameError",
          "evalue": "ignored",
          "traceback": [
            "\u001b[0;31m---------------------------------------------------------------------------\u001b[0m",
            "\u001b[0;31mNameError\u001b[0m                                 Traceback (most recent call last)",
            "\u001b[0;32m<ipython-input-1-fcb8d36c330f>\u001b[0m in \u001b[0;36m<module>\u001b[0;34m()\u001b[0m\n\u001b[1;32m      1\u001b[0m \u001b[0;31m#select and display the attributes with object dataset\u001b[0m\u001b[0;34m\u001b[0m\u001b[0;34m\u001b[0m\u001b[0;34m\u001b[0m\u001b[0m\n\u001b[0;32m----> 2\u001b[0;31m \u001b[0mobject_data\u001b[0m \u001b[0;34m=\u001b[0m \u001b[0mdata\u001b[0m\u001b[0;34m.\u001b[0m\u001b[0mselect_dtypes\u001b[0m\u001b[0;34m(\u001b[0m\u001b[0minclude\u001b[0m\u001b[0;34m=\u001b[0m\u001b[0;34m[\u001b[0m\u001b[0;34m'object'\u001b[0m\u001b[0;34m]\u001b[0m\u001b[0;34m)\u001b[0m\u001b[0;34m.\u001b[0m\u001b[0mcopy\u001b[0m\u001b[0;34m(\u001b[0m\u001b[0;34m)\u001b[0m\u001b[0;34m\u001b[0m\u001b[0;34m\u001b[0m\u001b[0m\n\u001b[0m\u001b[1;32m      3\u001b[0m \u001b[0mobject_data\u001b[0m\u001b[0;34m.\u001b[0m\u001b[0mhead\u001b[0m\u001b[0;34m(\u001b[0m\u001b[0;34m)\u001b[0m\u001b[0;34m\u001b[0m\u001b[0;34m\u001b[0m\u001b[0m\n",
            "\u001b[0;31mNameError\u001b[0m: name 'data' is not defined"
          ]
        }
      ]
    },
    {
      "cell_type": "markdown",
      "source": [
        ">>We can observe the list of attributes with categorical data and some of its labeled instances."
      ],
      "metadata": {
        "id": "GuKauDkybakY"
      }
    },
    {
      "cell_type": "code",
      "source": [
        "#Find the unique object datatype attributes\n",
        "array = ['school','sex','address','famsize','Pstatus','Mjob','Fjob','reason','guardian','schoolsup','famsup','paid','activities','nursery','higher','internet','romantic'] \n",
        "\n",
        "for x in array:\n",
        "    print(f\"{x}: {data[x].unique()}\")"
      ],
      "metadata": {
        "id": "OkVCELqOiH-k"
      },
      "execution_count": null,
      "outputs": []
    },
    {
      "cell_type": "markdown",
      "source": [
        ">>We can observe attributes with categorical values along with the unique labels of those attribures. some attributes like activites, internet access, romantic relationships etc have labels 'yes, and 'no'. Mothers job and fathers job have labels like teacher, services, health, at home etc."
      ],
      "metadata": {
        "id": "b1sj-pE6cR2o"
      }
    },
    {
      "cell_type": "code",
      "source": [
        "#One-hot encode the object datatype attributes\n",
        "data = pd.read_csv('train.csv')\n",
        "array = ['school','sex','address','famsize','Pstatus','Mjob','Fjob','reason','guardian','schoolsup','famsup','paid','activities','nursery','higher','internet','romantic'] \n",
        "\n",
        "\n",
        "for x in array:\n",
        "  data = pd.get_dummies(data, columns=[x])\n",
        "\n",
        "data.head()\n",
        "  "
      ],
      "metadata": {
        "id": "oKJDtYiOz2Dv"
      },
      "execution_count": null,
      "outputs": []
    },
    {
      "cell_type": "markdown",
      "source": [
        ">>The above code section performs one-hot encoding using pandas library’s get_dummies function and we can visualise the encoded dataset above."
      ],
      "metadata": {
        "id": "YvgjOtZMdMDJ"
      }
    },
    {
      "cell_type": "code",
      "source": [
        "#List the datatypes of encoded training dataset\n",
        "data.info()"
      ],
      "metadata": {
        "id": "hMBhRkdGyzaV"
      },
      "execution_count": null,
      "outputs": []
    },
    {
      "cell_type": "markdown",
      "source": [
        ">>We can observe that all atrributes are of datatype integer avove."
      ],
      "metadata": {
        "id": "BHKuhUDvdlgd"
      }
    },
    {
      "cell_type": "code",
      "source": [
        "#Encode 'Grade' using label encoder\n",
        "from sklearn.preprocessing import LabelEncoder\n",
        "le = LabelEncoder()\n",
        "data['Grade'] = le.fit_transform(data['Grade'])\n",
        "data.head(10)"
      ],
      "metadata": {
        "id": "d3inQPWLtWLg"
      },
      "execution_count": null,
      "outputs": []
    },
    {
      "cell_type": "markdown",
      "source": [
        ">>The target attribute to be predicted \"Grade\" is label encode using the label encoder form scikit learn package. The grades in the 5-18 are encoded to 0-13 labels. these labels are used while performing multi-class classification."
      ],
      "metadata": {
        "id": "O3FG6sPQdzq5"
      }
    },
    {
      "cell_type": "markdown",
      "source": [
        "## Outlier Removal\n",
        "\n",
        "><p align= \"Justify\">Analysing data include investigating the data behaviour. In machine learning, the are so-called outliers defined as the set of data deviating from the rest of the dataset. These are often considered as values that decrease the statical efficiency of the dataset. Usually, outliers manifest due to human error when registering the data or randomly because of unexpected irregularity intrinsic to the dataset. So it is worth identifying and removing them when necessary, especially outliers caused by human mistakes (Grubbs, 1969).\n",
        "\n",
        "><p align= \"Justify\">The method below involves the z-score from the standard normal distribution with mean 0 and variance 1. This will identify outliers from their distance to the mean per the threshold. The method found  541 outliers. "
      ],
      "metadata": {
        "id": "vYqtEq93Bnd4"
      }
    },
    {
      "cell_type": "code",
      "source": [
        "#Here the programm try to look further in the data to identify outlier following what was plotted earlier\n",
        "\n",
        "from scipy import stats    #importaing a additional function called stats from the library SciPy to manage statistics such as probability distributions, summary and frequency statistics, correlation functions.\n",
        "\n",
        "def get_outlier_counts(dataset, threshold):     #threshold here is the limit of acceptable data being no outliers\n",
        "  \n",
        "  dataset = data.copy()    #copying of the dataframe\n",
        "\n",
        "\n",
        "#z-score method with mean 0 and variance 1, per the threshold (ATKIN, 2022).\n",
        "\n",
        "  threshold_z_score = stats.norm.ppf(threshold)      # getting the z-score (coordinate on axis x) and passing on the treshold into the ppf (percent point function) methdod to use percentage values\n",
        "\n",
        "  z_score_df = pd.DataFrame(np.abs(stats.zscore(dataset)), columns=dataset.columns)     #getting a z-scrore for every value in the dataset in restpect to their columns either positve or negative \n",
        "\n",
        "  return (z_score_df > threshold_z_score).sum(axis=0)   "
      ],
      "metadata": {
        "id": "wbiRW4_Q5Zad"
      },
      "execution_count": null,
      "outputs": []
    },
    {
      "cell_type": "markdown",
      "source": [
        ">>The code block defines the get_outlier_function that identifies the outliers in each attribute."
      ],
      "metadata": {
        "id": "Nq4iifkBXlg_"
      }
    },
    {
      "cell_type": "code",
      "source": [
        "#identify the number of outliers of each attributes\n",
        "get_outlier_counts(data.drop(columns=['id','Grade']),0.9999)"
      ],
      "metadata": {
        "colab": {
          "base_uri": "https://localhost:8080/"
        },
        "id": "qaCZWn2U5bCm",
        "outputId": "d3f9441d-8200-41ab-cd83-2c320ef1e4d6"
      },
      "execution_count": null,
      "outputs": [
        {
          "output_type": "execute_result",
          "data": {
            "text/plain": [
              "id                     0\n",
              "age                    5\n",
              "Medu                   0\n",
              "Fedu                   0\n",
              "traveltime            11\n",
              "studytime              0\n",
              "failures             679\n",
              "famrel                30\n",
              "freetime               0\n",
              "goout                  0\n",
              "Dalc                   0\n",
              "Walc                   0\n",
              "health                 0\n",
              "absences             292\n",
              "G1                     3\n",
              "G2                     0\n",
              "Grade                336\n",
              "school_GP              0\n",
              "school_MS              0\n",
              "sex_F                  0\n",
              "sex_M                  0\n",
              "address_R              0\n",
              "address_U              0\n",
              "famsize_GT3            0\n",
              "famsize_LE3            0\n",
              "Pstatus_A              0\n",
              "Pstatus_T              0\n",
              "Mjob_at_home           0\n",
              "Mjob_health            0\n",
              "Mjob_other             0\n",
              "Mjob_services          0\n",
              "Mjob_teacher           0\n",
              "Fjob_at_home           0\n",
              "Fjob_health            0\n",
              "Fjob_other             0\n",
              "Fjob_services          0\n",
              "Fjob_teacher           0\n",
              "reason_course          0\n",
              "reason_home            0\n",
              "reason_other           0\n",
              "reason_reputation      0\n",
              "guardian_father        0\n",
              "guardian_mother        0\n",
              "guardian_other         0\n",
              "schoolsup_no           0\n",
              "schoolsup_yes          0\n",
              "famsup_no              0\n",
              "famsup_yes             0\n",
              "paid_no                0\n",
              "paid_yes               0\n",
              "activities_no          0\n",
              "activities_yes         0\n",
              "nursery_no             0\n",
              "nursery_yes            0\n",
              "higher_no              0\n",
              "higher_yes             0\n",
              "internet_no            0\n",
              "internet_yes           0\n",
              "romantic_no            0\n",
              "romantic_yes           0\n",
              "dtype: int64"
            ]
          },
          "metadata": {},
          "execution_count": 17
        }
      ]
    },
    {
      "cell_type": "markdown",
      "source": [
        ">>We can observe the number of outliers that are present in each attribute."
      ],
      "metadata": {
        "id": "gvcDh7-tXW1c"
      }
    },
    {
      "cell_type": "code",
      "source": [
        "#what is the best threshold ? here instead of counting the outliers as above, the program will get the oulier indeces to identify the threshold to use\n",
        "\n",
        "def remove_outliers(dataset, threshold):\n",
        "  \n",
        "  dataset = data.copy()\n",
        "\n",
        "#getting the z-score of each value\n",
        "  threshold_z_score = stats.norm.ppf(threshold)   \n",
        "\n",
        "  z_score_df = pd.DataFrame(np.abs(stats.zscore(dataset)), columns=dataset.columns)\n",
        "  z_score_df = z_score_df > threshold_z_score\n",
        "\n",
        "#getting the outliers indices\n",
        "  outliers =  z_score_df.sum(axis=1)    #summing up the outliers accross the rows on the axis 1\n",
        "  outliers = outliers > 0               #for each given outlier, drop the row if there is at least 1 outlier in that row\n",
        "  outlier_indices = dataset.index[outliers]\n",
        "\n",
        "  dataset = dataset.drop(outlier_indices, axis = 0).reset_index(drop=True)     #from the dataset exclude the outlier and return the new dataset from the axis 0 and reset the index to avoing missing indeces\n",
        "\n",
        "  return dataset"
      ],
      "metadata": {
        "id": "TwC7v06dE_qc"
      },
      "execution_count": null,
      "outputs": []
    },
    {
      "cell_type": "markdown",
      "source": [
        ">>Remove outliers function takes in threshold and the training dataset and returns the dataset after performing outlier removal."
      ],
      "metadata": {
        "id": "Nf7mSTTgXBoF"
      }
    },
    {
      "cell_type": "code",
      "source": [
        "#Remove outliers from the training dataset\n",
        "data = remove_outliers(data.drop(columns=['Grade']), 0.99999)\n",
        "#Display the number of datapoints after removing outliers.\n",
        "data.info()"
      ],
      "metadata": {
        "id": "IR3QlrQhOhT9",
        "colab": {
          "base_uri": "https://localhost:8080/"
        },
        "outputId": "92e72402-a876-4943-a796-a0a402b7e385"
      },
      "execution_count": null,
      "outputs": [
        {
          "output_type": "stream",
          "name": "stdout",
          "text": [
            "<class 'pandas.core.frame.DataFrame'>\n",
            "RangeIndex: 19613 entries, 0 to 19612\n",
            "Data columns (total 60 columns):\n",
            " #   Column             Non-Null Count  Dtype\n",
            "---  ------             --------------  -----\n",
            " 0   id                 19613 non-null  int64\n",
            " 1   age                19613 non-null  int64\n",
            " 2   Medu               19613 non-null  int64\n",
            " 3   Fedu               19613 non-null  int64\n",
            " 4   traveltime         19613 non-null  int64\n",
            " 5   studytime          19613 non-null  int64\n",
            " 6   failures           19613 non-null  int64\n",
            " 7   famrel             19613 non-null  int64\n",
            " 8   freetime           19613 non-null  int64\n",
            " 9   goout              19613 non-null  int64\n",
            " 10  Dalc               19613 non-null  int64\n",
            " 11  Walc               19613 non-null  int64\n",
            " 12  health             19613 non-null  int64\n",
            " 13  absences           19613 non-null  int64\n",
            " 14  G1                 19613 non-null  int64\n",
            " 15  G2                 19613 non-null  int64\n",
            " 16  Grade              19613 non-null  int64\n",
            " 17  school_GP          19613 non-null  uint8\n",
            " 18  school_MS          19613 non-null  uint8\n",
            " 19  sex_F              19613 non-null  uint8\n",
            " 20  sex_M              19613 non-null  uint8\n",
            " 21  address_R          19613 non-null  uint8\n",
            " 22  address_U          19613 non-null  uint8\n",
            " 23  famsize_GT3        19613 non-null  uint8\n",
            " 24  famsize_LE3        19613 non-null  uint8\n",
            " 25  Pstatus_A          19613 non-null  uint8\n",
            " 26  Pstatus_T          19613 non-null  uint8\n",
            " 27  Mjob_at_home       19613 non-null  uint8\n",
            " 28  Mjob_health        19613 non-null  uint8\n",
            " 29  Mjob_other         19613 non-null  uint8\n",
            " 30  Mjob_services      19613 non-null  uint8\n",
            " 31  Mjob_teacher       19613 non-null  uint8\n",
            " 32  Fjob_at_home       19613 non-null  uint8\n",
            " 33  Fjob_health        19613 non-null  uint8\n",
            " 34  Fjob_other         19613 non-null  uint8\n",
            " 35  Fjob_services      19613 non-null  uint8\n",
            " 36  Fjob_teacher       19613 non-null  uint8\n",
            " 37  reason_course      19613 non-null  uint8\n",
            " 38  reason_home        19613 non-null  uint8\n",
            " 39  reason_other       19613 non-null  uint8\n",
            " 40  reason_reputation  19613 non-null  uint8\n",
            " 41  guardian_father    19613 non-null  uint8\n",
            " 42  guardian_mother    19613 non-null  uint8\n",
            " 43  guardian_other     19613 non-null  uint8\n",
            " 44  schoolsup_no       19613 non-null  uint8\n",
            " 45  schoolsup_yes      19613 non-null  uint8\n",
            " 46  famsup_no          19613 non-null  uint8\n",
            " 47  famsup_yes         19613 non-null  uint8\n",
            " 48  paid_no            19613 non-null  uint8\n",
            " 49  paid_yes           19613 non-null  uint8\n",
            " 50  activities_no      19613 non-null  uint8\n",
            " 51  activities_yes     19613 non-null  uint8\n",
            " 52  nursery_no         19613 non-null  uint8\n",
            " 53  nursery_yes        19613 non-null  uint8\n",
            " 54  higher_no          19613 non-null  uint8\n",
            " 55  higher_yes         19613 non-null  uint8\n",
            " 56  internet_no        19613 non-null  uint8\n",
            " 57  internet_yes       19613 non-null  uint8\n",
            " 58  romantic_no        19613 non-null  uint8\n",
            " 59  romantic_yes       19613 non-null  uint8\n",
            "dtypes: int64(17), uint8(43)\n",
            "memory usage: 3.3 MB\n"
          ]
        }
      ]
    },
    {
      "cell_type": "markdown",
      "source": [
        ">>We can observe the final number of instances of data to be 19613 from the initial number of instances 20064. 541 instances are removed from the training dataset."
      ],
      "metadata": {
        "id": "bgRNqoqBWsdc"
      }
    },
    {
      "cell_type": "markdown",
      "source": [
        "## Scaling and Sampling the Data\n",
        "\n",
        "><p align= \"Justify\">Scaling is performed on the dataset to reduce the distance between its instances are lowered and are uniform. This step also improves the model performance while training. \n",
        "\n",
        "><p align= \"Justify\">The dataset is then oversampled using Random Oversampler because the dataset is wildly imbalanced with the target instances. This process increases the likelihood of the minority instances being sampled. Thus producing a better prediction on the test dataset."
      ],
      "metadata": {
        "id": "qM0WGBJhk4lj"
      }
    },
    {
      "cell_type": "code",
      "source": [
        "from sklearn.model_selection import train_test_split\n",
        "from sklearn.preprocessing import StandardScaler\n",
        "from sklearn.metrics import accuracy_score\n",
        "\n",
        "#Prepare the Data\n",
        "X = data.drop(columns=['Grade'])\n",
        "Y = data['Grade']\n",
        "\n",
        "#Scale the training dataset\n",
        "scale = StandardScaler()\n",
        "x_scaled = pd.DataFrame(scale.fit_transform(X))\n",
        "\n",
        "#Over sample the imbalanced dataset.\n",
        "from imblearn.over_sampling import RandomOverSampler \n",
        "sample = RandomOverSampler(random_state=42)\n",
        "X, Y = sample.fit_resample(x_scaled, Y)\n",
        "\n"
      ],
      "metadata": {
        "id": "vua-xTU0OleR"
      },
      "execution_count": null,
      "outputs": []
    },
    {
      "cell_type": "markdown",
      "source": [
        "# Machine Learning Model"
      ],
      "metadata": {
        "id": "2dqbS2jvlj-q"
      }
    },
    {
      "cell_type": "markdown",
      "source": [
        "## Random Forest Classifier\n",
        "\n",
        "><p align= \"Justify\">Random forest model is used to perform the standard machine learning baseline classification. Random forest is a classification function that uses multiple decision trees architecture to break a dataset into a smaller subset or trees for prediction using the bagging sampling method (Chudhey et al., 2022). Random Forest was used as the standard machine learning baseline because it works best when used for classification, specially multiclass classification. Random forest is the ensemble of Decision tree classifiers trained via bagging. The model works based on the feature importance approach, and the features which are highly correlated with the target will have a higher portion of weight in predicting the data. The random forest also reduces the overfitting of the data, thus leading to a better prediction with the highest accuracy. For effective results, Random Forest needs its parameters well-tuned according to the task. In this case, it uses 100 estimators for its prediction and the max depth parameter is set to 5 after performing hyperparameter tuning using the trial and error method."
      ],
      "metadata": {
        "id": "liF-WyPGBxg4"
      }
    },
    {
      "cell_type": "code",
      "source": [
        "# split the existing sample data and fit it to training data for find RMSE\n",
        "from sklearn.model_selection import train_test_split\n",
        "from sklearn.metrics import accuracy_score\n",
        "\n",
        "#Define a function train_model for training\n",
        "def train_model(model, x, y):\n",
        "  x_trainset, x_testset, y_trainset, y_testset = train_test_split(x, y, random_state=100, test_size=0.30)\n",
        "  x_trainset.shape, x_testset.shape\n",
        "  model.fit(x_trainset,y_trainset)\n",
        "  pred = model.predict(x_testset)\n",
        "  print(\"Accuracy Score :\", accuracy_score(y_testset,pred)*100)"
      ],
      "metadata": {
        "id": "90puEuEJ0yRS"
      },
      "execution_count": null,
      "outputs": []
    },
    {
      "cell_type": "code",
      "source": [
        "#Random Forest Classifier\n",
        "from sklearn.ensemble import RandomForestClassifier\n",
        "rf_model = RandomForestClassifier(n_estimators=100, max_depth=5, random_state = 50)\n",
        "\n",
        "#Train the model using random forest classifier\n",
        "train_model(rf_model,X,Y)\n",
        "\n",
        "#Feature Importance\n",
        "feature_importances = rf_model.feature_importances_\n",
        "print(\"Feature importances:\\n{}\".format(feature_importances))"
      ],
      "metadata": {
        "colab": {
          "base_uri": "https://localhost:8080/"
        },
        "id": "-ANqKbY9LCLI",
        "outputId": "f8377efb-f3e2-4e37-90eb-2e9fab88b697"
      },
      "execution_count": null,
      "outputs": [
        {
          "output_type": "stream",
          "name": "stdout",
          "text": [
            "Accuracy Score : 82.2251815212911\n",
            "Feature importances:\n",
            "[0.00804045 0.00784113 0.0942727  0.02131086 0.01043291 0.24870897\n",
            " 0.20280025 0.0034909  0.017881   0.02444273 0.0171216  0.00310823\n",
            " 0.02000954 0.07767786 0.01843722 0.02662018 0.00129515 0.00275111\n",
            " 0.00170631 0.00065952 0.00154544 0.00134237 0.00160294 0.00173858\n",
            " 0.00029522 0.00051772 0.00160685 0.00090451 0.01297471 0.00109756\n",
            " 0.00321537 0.00225268 0.00033243 0.00129114 0.00215597 0.0027272\n",
            " 0.00076978 0.00100994 0.00038418 0.00074917 0.00074299 0.00773672\n",
            " 0.0008522  0.00250387 0.00475134 0.00196468 0.00252294 0.00105207\n",
            " 0.00104092 0.00221498 0.00299762 0.00078471 0.00102018 0.0601069\n",
            " 0.04433552 0.00444846 0.00274535 0.004871   0.00618516]\n"
          ]
        }
      ]
    },
    {
      "cell_type": "markdown",
      "source": [
        ">><p align= \"Justify\">The random forest model produces a training accuracy score of 82.225%, and when the test dataset is predicted using the model and the predictions uploaded to kaggle produces a kaggle score of 0.5655. We can also visualise the valuable features using a random forest classifier using the feature_importance parameter. This function shows that failures and study time are essential attributes, and access to the internet is the least important attribute."
      ],
      "metadata": {
        "id": "9gEpJ47LOT6u"
      }
    },
    {
      "cell_type": "markdown",
      "source": [
        "# Dense Deep Neural Network\n",
        "\n",
        "><p align= \"Justify\">A sequential model is a Deep Learning model organised in a layer by layer architecture where the previous layer is connected to the following. This architecture makes it possible to define the input layer that will encounter the shape of the training set of data and add it to the model piecewise as the rest of all the layers.\n"
      ],
      "metadata": {
        "id": "1fVOrfOKoQh7"
      }
    },
    {
      "cell_type": "markdown",
      "source": [
        "## Model Description \n",
        "\n",
        "><p align= \"Justify\">The model contains an input layer, an output layer and three hidden layers. A dropout layer accompanies each hidden layer. The input layer includes 128 neurons, and the hidden layer 1 has 64 neurons, hidden layer 2 has 32 neurons, and hidden layer 3 has 32 neurons. The output has 13 neurons, each corresponding to 13 distinct classes of grades from 5-to 18 present in the training dataset. The model consists of 18765 parameters to be trained. The output layer is set to softmax to perform multiclass classification. Each neuron returns the probability distribution of that neuron, and the highest probability is classified. \n",
        "\n",
        "The hyperparameters that were tuned for this model were:\n",
        "\n",
        "* Activation\n",
        "* Kernal Initialiser\n",
        "* Regulariser parameter\n",
        "* Dropout rate\n",
        "* Optimiser\n",
        "* Loss function\n",
        "\n",
        "><p align= \"Justify\">The hyperparameter tuning is performed in the upcoming cell, and this is done by mounting the model in the function tune model and performing a grid search. \n",
        "\n",
        "><p align= \"Justify\">The hidden layers use the relu activation function because it does not activate all neurons and therefore is faster to compute while keeping the accuracy high. We trained the model using other activations like sigmoid and tanh, but relu consistently performed better. For weight initialisation, we used several methods like random normal, he normal, lecun normal and glorot normal. Random normal was the parameter that produced the best accuracy when tuning the model. However, random normal is not the ideal initialisation because the random initialisation of the weights and biases may produce inconsistent results. A dropout layer follows each hidden layer. The dropout is introduced to modify the network while training instead of changing the optimiser or loss function. The dropout layer has a parameter dropout rate. This decides what per cent of neurons are dropped while training. This model also performs regularisation in the hidden layers to stop the weights from getting too large. The model uses L2 regularisation, which changes the consequences proportional to weights. The regularisation parameter is hyperparameter tuned, and lamda of 0.01 produced the best performance.\n",
        "\n",
        "><p align= \"Justify\">Sparse categorical cross-entropy is used for loss function in this model. Although categorical cross-entropy is used for multiclass classification, the target attribute \"Grade\" is label encoded instead of one-hot encoding sparse categorical entropy. The Adam Optimiser function is used in this model after it produced the best accuracy while performing hyperparameter tuning. This could be because the weights are invariable to the changing gradient, and it is much faster and less computationally expensive. We tested the model using other optimisers like rmsprop, sgd, adagrad and adadelta, but adam produced much better accuracy while training. The metric used for loss calculation is accuracy. Though accuracy is not ideal for an imbalanced dataset like the one we have, it performed well enough for this particular dataset. The ideal learning rate is 0.0001 \n",
        "\n",
        "\n",
        "\n",
        "\n"
      ],
      "metadata": {
        "id": "yH_6wiDVc2x8"
      }
    },
    {
      "cell_type": "code",
      "source": [
        "#Import the necessary packages for the deep neural network model\n",
        "import pandas\n",
        "from keras.models import Sequential\n",
        "from keras.layers import Dense\n",
        "from keras.layers import LeakyReLU\n",
        "from keras.losses import sparse_categorical_crossentropy\n",
        "\n",
        "#Assign regulaizer and dropout parameters\n",
        "reg_l2 = keras.regularizers.l2(l=0.01)\n",
        "dr = 0.0\n",
        "\n",
        "#The dense neural network model \n",
        "dense_model = keras.models.Sequential([\n",
        " keras.layers.Dense(128, input_dim=59),\n",
        " keras.layers.Dropout((dr)),\n",
        " keras.layers.Dense(64,activation=\"relu\", kernel_initializer=\"random_normal\",kernel_regularizer=reg_l2),\n",
        " keras.layers.Dropout((dr)),\n",
        " keras.layers.Dense(32,activation=\"relu\", kernel_initializer=\"random_normal\",kernel_regularizer=reg_l2),\n",
        " keras.layers.Dropout((dr)),\n",
        " keras.layers.Dense(16,activation=\"relu\", kernel_initializer=\"random_normal\",kernel_regularizer=reg_l2),\n",
        " keras.layers.Dropout((dr)),\n",
        " keras.layers.Dense(13, activation=\"softmax\")                                \n",
        "])\n",
        "\n",
        "#Compile the deep neural network with loss function, optimiser and metrics for backpropagation \n",
        "dense_model.compile(loss='sparse_categorical_crossentropy', optimizer=tf.keras.optimizers.Adam(learning_rate=1e-3), metrics= ['accuracy'])\n",
        "\n",
        "#Print the model summary\n",
        "print(dense_model.summary())"
      ],
      "metadata": {
        "id": "6s2dWqBmus89",
        "colab": {
          "base_uri": "https://localhost:8080/"
        },
        "outputId": "8e54e803-911d-41bd-95ca-f6df807b9d86"
      },
      "execution_count": null,
      "outputs": [
        {
          "output_type": "stream",
          "name": "stdout",
          "text": [
            "Model: \"sequential\"\n",
            "_________________________________________________________________\n",
            " Layer (type)                Output Shape              Param #   \n",
            "=================================================================\n",
            " dense (Dense)               (None, 128)               7680      \n",
            "                                                                 \n",
            " dropout (Dropout)           (None, 128)               0         \n",
            "                                                                 \n",
            " dense_1 (Dense)             (None, 64)                8256      \n",
            "                                                                 \n",
            " dropout_1 (Dropout)         (None, 64)                0         \n",
            "                                                                 \n",
            " dense_2 (Dense)             (None, 32)                2080      \n",
            "                                                                 \n",
            " dropout_2 (Dropout)         (None, 32)                0         \n",
            "                                                                 \n",
            " dense_3 (Dense)             (None, 16)                528       \n",
            "                                                                 \n",
            " dropout_3 (Dropout)         (None, 16)                0         \n",
            "                                                                 \n",
            " dense_4 (Dense)             (None, 13)                221       \n",
            "                                                                 \n",
            "=================================================================\n",
            "Total params: 18,765\n",
            "Trainable params: 18,765\n",
            "Non-trainable params: 0\n",
            "_________________________________________________________________\n",
            "None\n"
          ]
        }
      ]
    },
    {
      "cell_type": "markdown",
      "source": [
        ">><p align= \"Justify\">We declared the model and printed the model summary. We can visualise the dense layers, the number of neurons of each layer and the total number of parameters of the model."
      ],
      "metadata": {
        "id": "GSglIPTrQoWo"
      }
    },
    {
      "cell_type": "code",
      "source": [
        "#Display the dense neural netowork as a plot\n",
        "from tensorflow.keras.utils import plot_model\n",
        "plot_model(dense_model,show_shapes=True)"
      ],
      "metadata": {
        "colab": {
          "base_uri": "https://localhost:8080/",
          "height": 1000
        },
        "id": "XrlUAAbPtghF",
        "outputId": "9ccfce21-3e90-4d33-b5a2-e7cae2ae3edd"
      },
      "execution_count": null,
      "outputs": [
        {
          "output_type": "execute_result",
          "data": {
            "text/plain": [
              "<IPython.core.display.Image object>"
            ],
            "image/png": "[encoded data removed]"
          },
          "metadata": {},
          "execution_count": 24
        }
      ]
    },
    {
      "cell_type": "markdown",
      "source": [
        ">>We can visualise the model using the plot_model function"
      ],
      "metadata": {
        "id": "5EtaGxNLRHSH"
      }
    },
    {
      "cell_type": "markdown",
      "source": [
        "## Training and Validating \n",
        "\n",
        "><p align= \"Justify\">The test and train split size used here is 70% training set and 30% testing set size. This was the best test/train split we found after testing 90/10, 80/20 and 60/40. The batch size used for training is 256. This is deduced after performing hyperparameters tuning with smaller and larger batch sizes. The smaller batch sizes led to overfitting, and the larger batch sizes generalised the training dataset leading to poor performance.\n",
        "\n",
        "><p align= \"Justify\">The model is run with the test and train sets for 50 epochs. At 50 Epochs, the model saturated and stopped learning. This was deduced using the hyperparameter tuning done below."
      ],
      "metadata": {
        "id": "c5DjxtROfggk"
      }
    },
    {
      "cell_type": "code",
      "source": [
        "#split the training and testing data\n",
        "X_train_full, X_test, y_train_full, y_test = train_test_split(X,Y)\n",
        "X_train, X_valid, y_train, y_valid = train_test_split(X_train_full, y_train_full, random_state=128, test_size=0.30)\n",
        "\n",
        "#Fit the testing and training data to the deep neural network model\n",
        "history = dense_model.fit(X_train, y_train, epochs=50, batch_size=256, validation_data=(X_valid, y_valid))\n"
      ],
      "metadata": {
        "colab": {
          "base_uri": "https://localhost:8080/"
        },
        "id": "pnA_A_cbjWuJ",
        "outputId": "4f4b9eb1-b5e1-4bf7-9f5f-c2adfbb8cb95"
      },
      "execution_count": null,
      "outputs": [
        {
          "output_type": "stream",
          "name": "stdout",
          "text": [
            "Epoch 1/50\n",
            "216/216 [==============================] - 2s 5ms/step - loss: 1.5218 - accuracy: 0.5489 - val_loss: 0.8249 - val_accuracy: 0.7756\n",
            "Epoch 2/50\n",
            "216/216 [==============================] - 1s 4ms/step - loss: 0.6157 - accuracy: 0.9121 - val_loss: 0.4858 - val_accuracy: 0.9527\n",
            "Epoch 3/50\n",
            "216/216 [==============================] - 1s 5ms/step - loss: 0.4369 - accuracy: 0.9610 - val_loss: 0.4044 - val_accuracy: 0.9658\n",
            "Epoch 4/50\n",
            "216/216 [==============================] - 1s 4ms/step - loss: 0.3777 - accuracy: 0.9668 - val_loss: 0.3674 - val_accuracy: 0.9666\n",
            "Epoch 5/50\n",
            "216/216 [==============================] - 1s 4ms/step - loss: 0.3445 - accuracy: 0.9702 - val_loss: 0.3283 - val_accuracy: 0.9694\n",
            "Epoch 6/50\n",
            "216/216 [==============================] - 1s 4ms/step - loss: 0.3191 - accuracy: 0.9728 - val_loss: 0.3071 - val_accuracy: 0.9706\n",
            "Epoch 7/50\n",
            "216/216 [==============================] - 1s 4ms/step - loss: 0.3013 - accuracy: 0.9742 - val_loss: 0.2921 - val_accuracy: 0.9772\n",
            "Epoch 8/50\n",
            "216/216 [==============================] - 1s 4ms/step - loss: 0.2858 - accuracy: 0.9759 - val_loss: 0.2770 - val_accuracy: 0.9789\n",
            "Epoch 9/50\n",
            "216/216 [==============================] - 1s 5ms/step - loss: 0.2735 - accuracy: 0.9767 - val_loss: 0.2640 - val_accuracy: 0.9786\n",
            "Epoch 10/50\n",
            "216/216 [==============================] - 1s 5ms/step - loss: 0.2653 - accuracy: 0.9758 - val_loss: 0.2537 - val_accuracy: 0.9773\n",
            "Epoch 11/50\n",
            "216/216 [==============================] - 1s 4ms/step - loss: 0.2533 - accuracy: 0.9777 - val_loss: 0.2460 - val_accuracy: 0.9786\n",
            "Epoch 12/50\n",
            "216/216 [==============================] - 1s 4ms/step - loss: 0.2431 - accuracy: 0.9781 - val_loss: 0.2398 - val_accuracy: 0.9782\n",
            "Epoch 13/50\n",
            "216/216 [==============================] - 1s 4ms/step - loss: 0.2351 - accuracy: 0.9789 - val_loss: 0.2309 - val_accuracy: 0.9829\n",
            "Epoch 14/50\n",
            "216/216 [==============================] - 1s 4ms/step - loss: 0.2273 - accuracy: 0.9803 - val_loss: 0.2203 - val_accuracy: 0.9809\n",
            "Epoch 15/50\n",
            "216/216 [==============================] - 1s 5ms/step - loss: 0.2200 - accuracy: 0.9807 - val_loss: 0.2148 - val_accuracy: 0.9791\n",
            "Epoch 16/50\n",
            "216/216 [==============================] - 1s 5ms/step - loss: 0.2162 - accuracy: 0.9797 - val_loss: 0.2058 - val_accuracy: 0.9822\n",
            "Epoch 17/50\n",
            "216/216 [==============================] - 1s 4ms/step - loss: 0.2085 - accuracy: 0.9807 - val_loss: 0.2027 - val_accuracy: 0.9861\n",
            "Epoch 18/50\n",
            "216/216 [==============================] - 1s 4ms/step - loss: 0.2052 - accuracy: 0.9813 - val_loss: 0.1978 - val_accuracy: 0.9805\n",
            "Epoch 19/50\n",
            "216/216 [==============================] - 1s 4ms/step - loss: 0.1988 - accuracy: 0.9818 - val_loss: 0.1965 - val_accuracy: 0.9819\n",
            "Epoch 20/50\n",
            "216/216 [==============================] - 1s 4ms/step - loss: 0.1922 - accuracy: 0.9833 - val_loss: 0.2201 - val_accuracy: 0.9576\n",
            "Epoch 21/50\n",
            "216/216 [==============================] - 1s 4ms/step - loss: 0.1886 - accuracy: 0.9835 - val_loss: 0.1846 - val_accuracy: 0.9856\n",
            "Epoch 22/50\n",
            "216/216 [==============================] - 1s 5ms/step - loss: 0.1863 - accuracy: 0.9828 - val_loss: 0.1777 - val_accuracy: 0.9825\n",
            "Epoch 23/50\n",
            "216/216 [==============================] - 1s 4ms/step - loss: 0.1844 - accuracy: 0.9818 - val_loss: 0.1780 - val_accuracy: 0.9875\n",
            "Epoch 24/50\n",
            "216/216 [==============================] - 1s 4ms/step - loss: 0.1792 - accuracy: 0.9827 - val_loss: 0.1769 - val_accuracy: 0.9778\n",
            "Epoch 25/50\n",
            "216/216 [==============================] - 1s 5ms/step - loss: 0.1769 - accuracy: 0.9821 - val_loss: 0.1703 - val_accuracy: 0.9822\n",
            "Epoch 26/50\n",
            "216/216 [==============================] - 1s 5ms/step - loss: 0.1710 - accuracy: 0.9839 - val_loss: 0.1719 - val_accuracy: 0.9859\n",
            "Epoch 27/50\n",
            "216/216 [==============================] - 2s 8ms/step - loss: 0.1720 - accuracy: 0.9819 - val_loss: 0.1648 - val_accuracy: 0.9868\n",
            "Epoch 28/50\n",
            "216/216 [==============================] - 2s 7ms/step - loss: 0.1663 - accuracy: 0.9833 - val_loss: 0.1666 - val_accuracy: 0.9840\n",
            "Epoch 29/50\n",
            "216/216 [==============================] - 2s 9ms/step - loss: 0.1672 - accuracy: 0.9816 - val_loss: 0.1704 - val_accuracy: 0.9828\n",
            "Epoch 30/50\n",
            "216/216 [==============================] - 1s 5ms/step - loss: 0.1625 - accuracy: 0.9833 - val_loss: 0.1563 - val_accuracy: 0.9870\n",
            "Epoch 31/50\n",
            "216/216 [==============================] - 1s 4ms/step - loss: 0.1572 - accuracy: 0.9848 - val_loss: 0.1506 - val_accuracy: 0.9861\n",
            "Epoch 32/50\n",
            "216/216 [==============================] - 1s 4ms/step - loss: 0.1620 - accuracy: 0.9813 - val_loss: 0.1690 - val_accuracy: 0.9728\n",
            "Epoch 33/50\n",
            "216/216 [==============================] - 1s 4ms/step - loss: 0.1568 - accuracy: 0.9831 - val_loss: 0.1532 - val_accuracy: 0.9827\n",
            "Epoch 34/50\n",
            "216/216 [==============================] - 1s 5ms/step - loss: 0.1501 - accuracy: 0.9857 - val_loss: 0.1493 - val_accuracy: 0.9854\n",
            "Epoch 35/50\n",
            "216/216 [==============================] - 1s 5ms/step - loss: 0.1481 - accuracy: 0.9856 - val_loss: 0.1489 - val_accuracy: 0.9867\n",
            "Epoch 36/50\n",
            "216/216 [==============================] - 1s 4ms/step - loss: 0.1471 - accuracy: 0.9851 - val_loss: 0.1398 - val_accuracy: 0.9877\n",
            "Epoch 37/50\n",
            "216/216 [==============================] - 1s 4ms/step - loss: 0.1471 - accuracy: 0.9847 - val_loss: 0.1389 - val_accuracy: 0.9906\n",
            "Epoch 38/50\n",
            "216/216 [==============================] - 1s 4ms/step - loss: 0.1491 - accuracy: 0.9830 - val_loss: 0.1380 - val_accuracy: 0.9887\n",
            "Epoch 39/50\n",
            "216/216 [==============================] - 1s 4ms/step - loss: 0.1406 - accuracy: 0.9864 - val_loss: 0.1397 - val_accuracy: 0.9868\n",
            "Epoch 40/50\n",
            "216/216 [==============================] - 1s 4ms/step - loss: 0.1393 - accuracy: 0.9864 - val_loss: 0.1346 - val_accuracy: 0.9868\n",
            "Epoch 41/50\n",
            "216/216 [==============================] - 1s 5ms/step - loss: 0.1422 - accuracy: 0.9845 - val_loss: 0.1353 - val_accuracy: 0.9859\n",
            "Epoch 42/50\n",
            "216/216 [==============================] - 1s 4ms/step - loss: 0.1427 - accuracy: 0.9837 - val_loss: 0.1315 - val_accuracy: 0.9861\n",
            "Epoch 43/50\n",
            "216/216 [==============================] - 1s 4ms/step - loss: 0.1355 - accuracy: 0.9856 - val_loss: 0.1352 - val_accuracy: 0.9848\n",
            "Epoch 44/50\n",
            "216/216 [==============================] - 1s 5ms/step - loss: 0.1326 - accuracy: 0.9869 - val_loss: 0.1282 - val_accuracy: 0.9860\n",
            "Epoch 45/50\n",
            "216/216 [==============================] - 1s 5ms/step - loss: 0.1349 - accuracy: 0.9850 - val_loss: 0.1329 - val_accuracy: 0.9869\n",
            "Epoch 46/50\n",
            "216/216 [==============================] - 1s 5ms/step - loss: 0.1318 - accuracy: 0.9858 - val_loss: 0.1253 - val_accuracy: 0.9891\n",
            "Epoch 47/50\n",
            "216/216 [==============================] - 1s 5ms/step - loss: 0.1296 - accuracy: 0.9863 - val_loss: 0.1370 - val_accuracy: 0.9812\n",
            "Epoch 48/50\n",
            "216/216 [==============================] - 1s 4ms/step - loss: 0.1311 - accuracy: 0.9860 - val_loss: 0.1395 - val_accuracy: 0.9770\n",
            "Epoch 49/50\n",
            "216/216 [==============================] - 1s 4ms/step - loss: 0.1284 - accuracy: 0.9859 - val_loss: 0.1319 - val_accuracy: 0.9830\n",
            "Epoch 50/50\n",
            "216/216 [==============================] - 1s 4ms/step - loss: 0.1269 - accuracy: 0.9857 - val_loss: 0.1292 - val_accuracy: 0.9800\n"
          ]
        }
      ]
    },
    {
      "cell_type": "markdown",
      "source": [
        ">>The dense deep neural network is trained using the training dataset which was already preprocessed to produce better results."
      ],
      "metadata": {
        "id": "AjWqi7XiRVoE"
      }
    },
    {
      "cell_type": "markdown",
      "source": [
        "## Model Analysis and Evaluation\n",
        "\n",
        "><p align= \"Justify\">The loss and the accuracy of the predictions from the test set of the training data are calculated using the evaluate function. The accuracy score is printed below. The training accuracy is 0.991, and the loss is 0.103."
      ],
      "metadata": {
        "id": "ptkcz96FcM-r"
      }
    },
    {
      "cell_type": "code",
      "source": [
        "#Evalute the accuracy of the trained model\n",
        "accuracy_test = dense_model.evaluate(X_test, y_test)\n",
        "print(accuracy_test)"
      ],
      "metadata": {
        "colab": {
          "base_uri": "https://localhost:8080/"
        },
        "id": "6NP-UpOJBa6R",
        "outputId": "63721d1e-63a5-4a47-cb1e-2d51e5c3fdaa"
      },
      "execution_count": null,
      "outputs": [
        {
          "output_type": "stream",
          "name": "stdout",
          "text": [
            "822/822 [==============================] - 1s 2ms/step - loss: 0.1323 - accuracy: 0.9792\n",
            "[0.13233190774917603, 0.979188084602356]\n"
          ]
        }
      ]
    },
    {
      "cell_type": "code",
      "source": [
        "# Plot the training loss and validation loss\n",
        "loss = history.history['loss']\n",
        "val_loss = history.history['val_loss']\n",
        "epochs = range(1, len(loss)+1)\n",
        "plt.plot(epochs, loss, 'y', label='Training Loss')\n",
        "plt.plot(epochs, val_loss, 'r', label='Validation Loss')\n",
        "plt.title('Training and Validation Loss')\n",
        "plt.xlabel('Epochs')\n",
        "plt.ylabel('Loss')\n",
        "plt.legend()\n",
        "plt.show()"
      ],
      "metadata": {
        "colab": {
          "base_uri": "https://localhost:8080/",
          "height": 295
        },
        "id": "u0jthJ2K7tXw",
        "outputId": "05bbcf2e-7d0a-42cb-9e14-828ce2147f76"
      },
      "execution_count": null,
      "outputs": [
        {
          "output_type": "display_data",
          "data": {
            "text/plain": [
              "<Figure size 432x288 with 1 Axes>"
            ],
            "image/png": "[encoded data removed]"
          },
          "metadata": {
            "needs_background": "light"
          }
        }
      ]
    },
    {
      "cell_type": "markdown",
      "source": [
        ">>The training loss and validation loss are plotted above. we can observe that they are similar. Therefore, there is no over fitting.  "
      ],
      "metadata": {
        "id": "z6GvL1dZsZeI"
      }
    },
    {
      "cell_type": "code",
      "source": [
        "# Plot the training accuracy and validation accuracy\n",
        "acc = history.history['accuracy']\n",
        "val_acc = history.history['val_accuracy']\n",
        "plt.plot(epochs, acc, 'y', label='Training Accuracy')\n",
        "plt.plot(epochs, val_acc, 'r', label='Validation Accuracy')\n",
        "plt.title('Training and Validation Accuracy')\n",
        "plt.xlabel('Epochs')\n",
        "plt.ylabel('Accuracy')\n",
        "plt.legend()\n",
        "plt.show()"
      ],
      "metadata": {
        "colab": {
          "base_uri": "https://localhost:8080/",
          "height": 295
        },
        "id": "X23l4f3F72fK",
        "outputId": "47db4bb6-edf6-40d8-d9eb-cee4e91034a1"
      },
      "execution_count": null,
      "outputs": [
        {
          "output_type": "display_data",
          "data": {
            "text/plain": [
              "<Figure size 432x288 with 1 Axes>"
            ],
            "image/png": "[encoded data removed]"
          },
          "metadata": {
            "needs_background": "light"
          }
        }
      ]
    },
    {
      "cell_type": "markdown",
      "source": [
        ">>The training accuracy and validation accuracy are plotted above. we can observe that they are similar. Therefore, there is no over fitting. "
      ],
      "metadata": {
        "id": "ZlSWdYfUsvOu"
      }
    },
    {
      "cell_type": "markdown",
      "source": [
        "## Hyper Parameter Tuning\n",
        "\n",
        "><p align= \"Justify\">Hyper parameter tuning is pertinent to any machine learning model. Ignoring this step would lead us to suboptimal results and maximum loss, leading to more predictions errors. We performed hyperparameter tuning on dropout rate, regularisation parameter, batch size, epochs, kernel initialiser and activation using the grid search function from scikit learn.\n"
      ],
      "metadata": {
        "id": "s7HyTAzKollJ"
      }
    },
    {
      "cell_type": "code",
      "source": [
        "#Hyper-parameters tuning \n",
        "#Import necessary packages\n",
        "import numpy\n",
        "from sklearn.model_selection import GridSearchCV\n",
        "from keras.models import Sequential\n",
        "from keras.layers import Dense\n",
        "from keras.layers import Dropout\n",
        "from keras.wrappers.scikit_learn import KerasClassifier\n",
        "\n",
        "# Create a function tune_model for hyperparameter tuning\n",
        "def tune_model(l = 0.0,dropout_rate = 0.0,activation=\"sgd\", kernel_initializer=\"random_normal\"):\n",
        "  reg_l2 = keras.regularizers.l2(l)\n",
        "  model = Sequential()\n",
        "  model.add(Dense(128,  input_dim=59))\n",
        "  model.add(Dropout((dropout_rate)))\n",
        "  model.add(Dense(64,activation=activation, kernel_initializer=kernel_initializer,kernel_regularizer=reg_l2))\n",
        "  model.add(Dropout((dropout_rate)))\n",
        "  model.add(Dense(32,activation=activation, kernel_initializer=kernel_initializer,kernel_regularizer=reg_l2))\n",
        "  model.add(Dropout((dropout_rate)))\n",
        "  model.add(Dense(16,activation=activation, kernel_initializer=kernel_initializer,kernel_regularizer=reg_l2))\n",
        "  model.add(Dropout((dropout_rate)))\n",
        "  model.add(Dense(13, activation=\"softmax\"))                               \n",
        "  \n",
        "\n",
        "  #Compile the deep neural network with loss function, optimiser and metrics for backpropagation \n",
        "  model.compile(loss='sparse_categorical_crossentropy', optimizer=tf.keras.optimizers.Adam(learning_rate=1e-3), metrics=['accuracy'])\n",
        "\n",
        "  return model\n",
        "\n",
        "\n",
        "# create a classifier model\n",
        "model = KerasClassifier(build_fn=tune_model,epochs=epochs,verbose=1)\n",
        "\n",
        "# define the parameters for performing grid search\n",
        "batch_size = [32,64, 128, 256, 512, 1024]\n",
        "dropout_rate = [ 0, 0.01, 0.05, 0.1, 0.2, 0.5]\n",
        "l = [0, 0.01, 0.05, 0.1, 0.2, 0.5]\n",
        "activation = ['sgd','tanh','relu']\n",
        "kernel_initializer = ['random_normal','he_normal','lecun_normal','glorot_normal']\n",
        "epochs = [10,25,50,75,100]\n",
        "parameter_grid= dict(dropout_rate=dropout_rate,l=l,batch_size=batch_size,activation=activation, kernel_initializer=kernel_initializer,epochs=epochs)\n",
        "\n",
        "#Define input parameters for the grid search function\n",
        "grid = GridSearchCV(estimator=model, param_grid= parameter_grid, n_jobs=-1, cv=3)\n",
        "\n",
        "#Fit the classifier with testing and training dataset.\n",
        "#Note: The below statements takes minutes to run therefore if necessary uncomment the statement and run the cell\n",
        "#grid_result = grid.fit(X_train, y_train)\n",
        "\n",
        "# summarize results\n",
        "#print(\"Best: %f using %s\" % (grid_result.best_score_, grid_result.best_params_))\n",
        "\n",
        "print('Note:The hyper parameter tuning takes minutes to run so it has been commented in this code cell. if you want to verify, uncomment the statement and run the cell')\n"
      ],
      "metadata": {
        "id": "-k9U8r6lbbf7",
        "colab": {
          "base_uri": "https://localhost:8080/"
        },
        "outputId": "5c85ebb3-07a4-41a6-9000-354bce714015"
      },
      "execution_count": null,
      "outputs": [
        {
          "output_type": "stream",
          "name": "stdout",
          "text": [
            "Note:The hyper parameter tuning takes minutes to run so it has been commented in this code cell. if you want to verify, uncomment the statement and run the cell\n"
          ]
        },
        {
          "output_type": "stream",
          "name": "stderr",
          "text": [
            "/usr/local/lib/python3.7/dist-packages/ipykernel_launcher.py:32: DeprecationWarning: KerasClassifier is deprecated, use Sci-Keras (https://github.com/adriangb/scikeras) instead. See https://www.adriangb.com/scikeras/stable/migration.html for help migrating.\n"
          ]
        }
      ]
    },
    {
      "cell_type": "markdown",
      "source": [
        ">>Note:The hyper parameter tuning takes several minutes to run so it has been commented in this code cell. if you want to verify, uncomment the statement and run the cell\n"
      ],
      "metadata": {
        "id": "xvybCd7NR3Fe"
      }
    },
    {
      "cell_type": "markdown",
      "source": [
        "## Prediction\n",
        "\n",
        "><p align= \"Justify\">The final prediction using the test dataset is done below, and grades are written to the test data file. This is submitted on kaggle to obtain our score. This is discussed in the results and discussion section of this notebook."
      ],
      "metadata": {
        "id": "7x85t3-yqbKK"
      }
    },
    {
      "cell_type": "code",
      "source": [
        "#Predict the Testset using the trained deep neural network\n",
        "\n",
        "# Load the test file\n",
        "test = pd.read_csv(\"test.csv\")\n",
        "\n",
        "#Copy the test file and perform onehot encoding for the test dataset attributes\n",
        "test_copy = pd.read_csv('test.csv')\n",
        "array = ['school','sex','address','famsize','Pstatus','Mjob','Fjob','reason','guardian','schoolsup','famsup','paid','activities','nursery','higher','internet','romantic'] \n",
        "\n",
        "for x in array:\n",
        "  test_copy = pd.get_dummies(test_copy, columns=[x])\n",
        "\n",
        "#Import the necessary packages for scaling the test dataset\n",
        "from sklearn.preprocessing import StandardScaler\n",
        "std_scaler = StandardScaler()\n",
        "test_scaled = std_scaler.fit_transform(test_copy) # fit the test_copy\n",
        "\n",
        "#Predict the grades of the students in the test dataset.\n",
        "pred = dense_model.predict(test_scaled) \n",
        "df = pd.DataFrame(pred)\n",
        "test['Grade'] = df.idxmax(axis = 1)+5\n",
        "\n",
        "#Print the predicted grades\n",
        "print(test['Grade'])\n",
        "\n",
        "# load the final predicted pop into original test file\n",
        "#Note: The below statement is commented so that the code can run multiple times without the need to load the test dataset again \n",
        "#test.to_csv(\"test.csv\") \n",
        "\n",
        "\n"
      ],
      "metadata": {
        "colab": {
          "base_uri": "https://localhost:8080/"
        },
        "id": "zc5RRc2-9qCf",
        "outputId": "41251d22-bd11-4049-c2e1-8ed62b2eb366"
      },
      "execution_count": null,
      "outputs": [
        {
          "output_type": "stream",
          "name": "stdout",
          "text": [
            "0       9\n",
            "1       9\n",
            "2       9\n",
            "3       9\n",
            "4       9\n",
            "       ..\n",
            "96      9\n",
            "97      7\n",
            "98      9\n",
            "99     10\n",
            "100    10\n",
            "Name: Grade, Length: 101, dtype: int64\n"
          ]
        }
      ]
    },
    {
      "cell_type": "code",
      "source": [
        "#Plot the predicted grades of the test dataset\n",
        "sns.countplot(x=\"Grade\", data=test)"
      ],
      "metadata": {
        "id": "9YS7dxdTAxlz",
        "colab": {
          "base_uri": "https://localhost:8080/",
          "height": 297
        },
        "outputId": "ca2c3bff-749b-4690-9a6a-372416017898"
      },
      "execution_count": null,
      "outputs": [
        {
          "output_type": "execute_result",
          "data": {
            "text/plain": [
              "<matplotlib.axes._subplots.AxesSubplot at 0x7fdc036caf10>"
            ]
          },
          "metadata": {},
          "execution_count": 31
        },
        {
          "output_type": "display_data",
          "data": {
            "text/plain": [
              "<Figure size 432x288 with 1 Axes>"
            ],
            "image/png": "[encoded data removed]"
          },
          "metadata": {
            "needs_background": "light"
          }
        }
      ]
    },
    {
      "cell_type": "markdown",
      "source": [
        ">><p align= \"Justify\">We can observe the predictions of the test set by the dense, deep learning model. We can see that the 9 has the most predictions. This is because the training dataset has the most instances of grade 9. we can also see other grade predictions in the plot above."
      ],
      "metadata": {
        "id": "dqFV0bqwSBu-"
      }
    },
    {
      "cell_type": "markdown",
      "source": [
        "# Wide Neural Network\n",
        "\n",
        "><p align= \"Justify\">Some of the critical advantages of a neural network is that it can be scaled to fit the problem it works to answer. This model investigates the output difference between a deep neural network and a wide neural network. Even if deep and wide networks give similar results, they behave quite differently, with errors and variances (Thao Nguyen,2010)."
      ],
      "metadata": {
        "id": "PCknPHyZqkC4"
      }
    },
    {
      "cell_type": "markdown",
      "source": [
        "## Model Description \n",
        "\n",
        "\n",
        "><p align= \"Justify\">The model contains an input layer, an output layer and hidden layers. The input layer consists of 500 neurons. The hidden layer also has 500 neurons. The output layer has 13 neurons, each corresponding to 13 distinct classes of grades from 5-to 18 present in the training dataset. The model consists of 287000 parameters to be trained. The output layer is set to softmax to perform multiclass classification. Each neuron returns the probability distribution of that neuron, and the highest probability is classified. \n",
        "\n",
        "The hyperparameters that were tuned for this model were:\n",
        "\n",
        "* Activation\n",
        "* Regulariser parameter\n",
        "* Optimiser\n",
        "* Loss function\n",
        "\n",
        "><p align= \"Justify\">The hyperparameter tuning is performed in the upcoming cell, and this is done by mounting the model in the function tune model and performing a grid search. \n",
        "\n",
        "><p align= \"Justify\">The hidden layers use the relu activation function because it does not activate all neurons and therefore is faster to compute while keeping the accuracy high. We trained the model using other activations like sigmoid and tanh, but relu consistently performed better. The model doesn’t include any initialiser or dropout since they further contributed to overfitting. This model also performs regularisation in the hidden layers to stop the weights from getting too large. The model uses L2 regularisation, which changes the weights proportional to weights. The regularisation parameter is hyperparameter tuned, and lamda of 0.01 produced the best performance.\n",
        "\n",
        "><p align= \"Justify\">Sparse categorical cross-entropy is used for loss function in this model. Although categorical cross-entropy is used for multiclass classification, the target attribute \"Grade\" is label encoded instead of one-hot encoding sparse categorical entropy. The Adam Optimiser function is used in this model after it produced the best accuracy while performing hyperparameter tuning. This could be because the weights are invariable to the changing gradient, and it is much faster and less computationally expensive. We tested the model using other optimisers like rmsprop, sgd, adagrad and adadelta, but adam produced much better accuracy while training. The metric used for loss calculation is accuracy. Though accuracy is not ideal for an imbalanced dataset like the one we have, it performed well enough for this particular dataset. The ideal learning rate is 0.0001 \n",
        "\n",
        "\n",
        "\n"
      ],
      "metadata": {
        "id": "q19OEHAdc7Zx"
      }
    },
    {
      "cell_type": "code",
      "source": [
        "#Import the necessary packages for the Wide neural network model\n",
        "import pandas\n",
        "from keras.models import Sequential\n",
        "from keras.layers import Dense\n",
        "from keras.losses import sparse_categorical_crossentropy\n",
        "\n",
        "#Assign regulaizer and dropout parameters\n",
        "reg_l2 = keras.regularizers.l2(l=0.0)\n",
        "\n",
        "\n",
        "#The wide neural network model \n",
        "wide_model = keras.models.Sequential([\n",
        " keras.layers.Dense(500,  input_dim=59),\n",
        " keras.layers.Dense(500,activation=\"relu\",kernel_regularizer=reg_l2),\n",
        " keras.layers.Dense(13, activation=\"softmax\")                                \n",
        "])\n",
        "\n",
        "#Compile the wide neural network with loss function, optimiser and metrics for backpropagation \n",
        "wide_model.compile(loss='sparse_categorical_crossentropy', optimizer=tf.keras.optimizers.Adam(learning_rate=1e-3), metrics=['accuracy'])\n",
        "\n",
        "#Print the model summary\n",
        "print(wide_model.summary())"
      ],
      "metadata": {
        "id": "nnASRPbhoKJo",
        "colab": {
          "base_uri": "https://localhost:8080/"
        },
        "outputId": "b469c3f2-8f81-4b9b-daed-e1f21fc3dde6"
      },
      "execution_count": null,
      "outputs": [
        {
          "output_type": "stream",
          "name": "stdout",
          "text": [
            "Model: \"sequential_1\"\n",
            "_________________________________________________________________\n",
            " Layer (type)                Output Shape              Param #   \n",
            "=================================================================\n",
            " dense_5 (Dense)             (None, 500)               30000     \n",
            "                                                                 \n",
            " dense_6 (Dense)             (None, 500)               250500    \n",
            "                                                                 \n",
            " dense_7 (Dense)             (None, 13)                6513      \n",
            "                                                                 \n",
            "=================================================================\n",
            "Total params: 287,013\n",
            "Trainable params: 287,013\n",
            "Non-trainable params: 0\n",
            "_________________________________________________________________\n",
            "None\n"
          ]
        }
      ]
    },
    {
      "cell_type": "markdown",
      "source": [
        ">>We declared the model and printed the model summary. We can visualise the dense layers, number of neurons of each layer and thr total number of parameters of the model."
      ],
      "metadata": {
        "id": "H1wgZtGHTAPo"
      }
    },
    {
      "cell_type": "code",
      "source": [
        "#Display the dense neural netowork as a plot\n",
        "from tensorflow.keras.utils import plot_model\n",
        "plot_model(wide_model,show_shapes=True)"
      ],
      "metadata": {
        "id": "AsRVYU5gtp-a",
        "colab": {
          "base_uri": "https://localhost:8080/",
          "height": 422
        },
        "outputId": "0e92be64-da4f-4089-fe0a-c9890ade3877"
      },
      "execution_count": null,
      "outputs": [
        {
          "output_type": "execute_result",
          "data": {
            "text/plain": [
              "<IPython.core.display.Image object>"
            ],
            "image/png": "[encoded data removed]"
          },
          "metadata": {},
          "execution_count": 33
        }
      ]
    },
    {
      "cell_type": "markdown",
      "source": [
        ">>We can visualise the model using the plot_model function"
      ],
      "metadata": {
        "id": "p8ebsq8DTrCK"
      }
    },
    {
      "cell_type": "markdown",
      "source": [
        "## Training and Validating \n",
        "\n",
        "><p align= \"Justify\">The test and train split size used here is 70% training set and 30% testing set size. This was the best test/train split we found after testing 90/10, 80/20 and 60/40. The batch size used for training is 1024. This is deduced after performing hyperparameters tuning with smaller and larger batch sizes. The smaller batch sizes led to overfitting, and the larger batch sizes generalised the training dataset leading to poor performance.\n",
        "\n",
        "><p align= \"Justify\">The model is run with the test and train sets for 50 epochs. At 50 Epochs, the model saturated and stopped learning. This was deduced using the hyperparameter tuning done below."
      ],
      "metadata": {
        "id": "DJq6D3Y3A9gH"
      }
    },
    {
      "cell_type": "code",
      "source": [
        "#Fit the testing and training data to the wide neural network model\n",
        "history = wide_model.fit(X_train, y_train, epochs=50, batch_size= 1024, validation_data=(X_valid, y_valid))\n",
        "\n"
      ],
      "metadata": {
        "id": "WQPgaNUeq2fw",
        "colab": {
          "base_uri": "https://localhost:8080/"
        },
        "outputId": "3caca126-039f-464f-cf20-b3ae103ec1d9"
      },
      "execution_count": null,
      "outputs": [
        {
          "output_type": "stream",
          "name": "stdout",
          "text": [
            "Epoch 1/50\n",
            "54/54 [==============================] - 3s 54ms/step - loss: 0.8078 - accuracy: 0.7586 - val_loss: 0.3397 - val_accuracy: 0.9344\n",
            "Epoch 2/50\n",
            "54/54 [==============================] - 3s 50ms/step - loss: 0.2152 - accuracy: 0.9602 - val_loss: 0.1357 - val_accuracy: 0.9760\n",
            "Epoch 3/50\n",
            "54/54 [==============================] - 3s 49ms/step - loss: 0.0976 - accuracy: 0.9828 - val_loss: 0.0758 - val_accuracy: 0.9848\n",
            "Epoch 4/50\n",
            "54/54 [==============================] - 3s 51ms/step - loss: 0.0576 - accuracy: 0.9897 - val_loss: 0.0493 - val_accuracy: 0.9896\n",
            "Epoch 5/50\n",
            "54/54 [==============================] - 3s 49ms/step - loss: 0.0390 - accuracy: 0.9930 - val_loss: 0.0384 - val_accuracy: 0.9910\n",
            "Epoch 6/50\n",
            "54/54 [==============================] - 3s 55ms/step - loss: 0.0291 - accuracy: 0.9941 - val_loss: 0.0315 - val_accuracy: 0.9921\n",
            "Epoch 7/50\n",
            "54/54 [==============================] - 3s 48ms/step - loss: 0.0223 - accuracy: 0.9962 - val_loss: 0.0263 - val_accuracy: 0.9926\n",
            "Epoch 8/50\n",
            "54/54 [==============================] - 3s 50ms/step - loss: 0.0177 - accuracy: 0.9969 - val_loss: 0.0251 - val_accuracy: 0.9929\n",
            "Epoch 9/50\n",
            "54/54 [==============================] - 3s 49ms/step - loss: 0.0147 - accuracy: 0.9974 - val_loss: 0.0218 - val_accuracy: 0.9936\n",
            "Epoch 10/50\n",
            "54/54 [==============================] - 3s 50ms/step - loss: 0.0119 - accuracy: 0.9982 - val_loss: 0.0192 - val_accuracy: 0.9942\n",
            "Epoch 11/50\n",
            "54/54 [==============================] - 3s 48ms/step - loss: 0.0105 - accuracy: 0.9982 - val_loss: 0.0189 - val_accuracy: 0.9942\n",
            "Epoch 12/50\n",
            "54/54 [==============================] - 3s 50ms/step - loss: 0.0088 - accuracy: 0.9986 - val_loss: 0.0156 - val_accuracy: 0.9950\n",
            "Epoch 13/50\n",
            "54/54 [==============================] - 3s 50ms/step - loss: 0.0078 - accuracy: 0.9986 - val_loss: 0.0164 - val_accuracy: 0.9943\n",
            "Epoch 14/50\n",
            "54/54 [==============================] - 3s 50ms/step - loss: 0.0065 - accuracy: 0.9990 - val_loss: 0.0154 - val_accuracy: 0.9948\n",
            "Epoch 15/50\n",
            "54/54 [==============================] - 3s 50ms/step - loss: 0.0054 - accuracy: 0.9995 - val_loss: 0.0129 - val_accuracy: 0.9956\n",
            "Epoch 16/50\n",
            "54/54 [==============================] - 3s 50ms/step - loss: 0.0049 - accuracy: 0.9995 - val_loss: 0.0157 - val_accuracy: 0.9944\n",
            "Epoch 17/50\n",
            "54/54 [==============================] - 3s 50ms/step - loss: 0.0047 - accuracy: 0.9993 - val_loss: 0.0128 - val_accuracy: 0.9955\n",
            "Epoch 18/50\n",
            "54/54 [==============================] - 3s 50ms/step - loss: 0.0037 - accuracy: 0.9996 - val_loss: 0.0134 - val_accuracy: 0.9951\n",
            "Epoch 19/50\n",
            "54/54 [==============================] - 3s 50ms/step - loss: 0.0029 - accuracy: 0.9998 - val_loss: 0.0132 - val_accuracy: 0.9953\n",
            "Epoch 20/50\n",
            "54/54 [==============================] - 3s 50ms/step - loss: 0.0027 - accuracy: 0.9998 - val_loss: 0.0139 - val_accuracy: 0.9951\n",
            "Epoch 21/50\n",
            "54/54 [==============================] - 3s 50ms/step - loss: 0.0026 - accuracy: 0.9998 - val_loss: 0.0129 - val_accuracy: 0.9954\n",
            "Epoch 22/50\n",
            "54/54 [==============================] - 3s 47ms/step - loss: 0.0027 - accuracy: 0.9997 - val_loss: 0.0146 - val_accuracy: 0.9951\n",
            "Epoch 23/50\n",
            "54/54 [==============================] - 3s 55ms/step - loss: 0.0017 - accuracy: 0.9999 - val_loss: 0.0114 - val_accuracy: 0.9959\n",
            "Epoch 24/50\n",
            "54/54 [==============================] - 3s 50ms/step - loss: 0.0015 - accuracy: 1.0000 - val_loss: 0.0108 - val_accuracy: 0.9963\n",
            "Epoch 25/50\n",
            "54/54 [==============================] - 3s 47ms/step - loss: 0.0013 - accuracy: 1.0000 - val_loss: 0.0115 - val_accuracy: 0.9957\n",
            "Epoch 26/50\n",
            "54/54 [==============================] - 3s 48ms/step - loss: 0.0011 - accuracy: 1.0000 - val_loss: 0.0115 - val_accuracy: 0.9956\n",
            "Epoch 27/50\n",
            "54/54 [==============================] - 3s 48ms/step - loss: 0.0010 - accuracy: 1.0000 - val_loss: 0.0113 - val_accuracy: 0.9959\n",
            "Epoch 28/50\n",
            "54/54 [==============================] - 3s 49ms/step - loss: 8.9183e-04 - accuracy: 1.0000 - val_loss: 0.0106 - val_accuracy: 0.9960\n",
            "Epoch 29/50\n",
            "54/54 [==============================] - 3s 51ms/step - loss: 7.9511e-04 - accuracy: 1.0000 - val_loss: 0.0107 - val_accuracy: 0.9961\n",
            "Epoch 30/50\n",
            "54/54 [==============================] - 3s 51ms/step - loss: 7.5710e-04 - accuracy: 1.0000 - val_loss: 0.0116 - val_accuracy: 0.9958\n",
            "Epoch 31/50\n",
            "54/54 [==============================] - 3s 56ms/step - loss: 7.0279e-04 - accuracy: 1.0000 - val_loss: 0.0119 - val_accuracy: 0.9957\n",
            "Epoch 32/50\n",
            "54/54 [==============================] - 3s 50ms/step - loss: 6.4278e-04 - accuracy: 1.0000 - val_loss: 0.0111 - val_accuracy: 0.9956\n",
            "Epoch 33/50\n",
            "54/54 [==============================] - 3s 50ms/step - loss: 5.9032e-04 - accuracy: 1.0000 - val_loss: 0.0112 - val_accuracy: 0.9962\n",
            "Epoch 34/50\n",
            "54/54 [==============================] - 3s 50ms/step - loss: 5.5244e-04 - accuracy: 1.0000 - val_loss: 0.0112 - val_accuracy: 0.9959\n",
            "Epoch 35/50\n",
            "54/54 [==============================] - 3s 51ms/step - loss: 5.0317e-04 - accuracy: 1.0000 - val_loss: 0.0113 - val_accuracy: 0.9958\n",
            "Epoch 36/50\n",
            "54/54 [==============================] - 3s 50ms/step - loss: 4.7698e-04 - accuracy: 1.0000 - val_loss: 0.0110 - val_accuracy: 0.9961\n",
            "Epoch 37/50\n",
            "54/54 [==============================] - 3s 56ms/step - loss: 4.4523e-04 - accuracy: 1.0000 - val_loss: 0.0113 - val_accuracy: 0.9961\n",
            "Epoch 38/50\n",
            "54/54 [==============================] - 3s 51ms/step - loss: 4.2068e-04 - accuracy: 1.0000 - val_loss: 0.0110 - val_accuracy: 0.9958\n",
            "Epoch 39/50\n",
            "54/54 [==============================] - 3s 49ms/step - loss: 3.9015e-04 - accuracy: 1.0000 - val_loss: 0.0114 - val_accuracy: 0.9957\n",
            "Epoch 40/50\n",
            "54/54 [==============================] - 3s 50ms/step - loss: 3.6694e-04 - accuracy: 1.0000 - val_loss: 0.0116 - val_accuracy: 0.9959\n",
            "Epoch 41/50\n",
            "54/54 [==============================] - 3s 50ms/step - loss: 3.4795e-04 - accuracy: 1.0000 - val_loss: 0.0105 - val_accuracy: 0.9964\n",
            "Epoch 42/50\n",
            "54/54 [==============================] - 3s 50ms/step - loss: 3.2886e-04 - accuracy: 1.0000 - val_loss: 0.0117 - val_accuracy: 0.9957\n",
            "Epoch 43/50\n",
            "54/54 [==============================] - 3s 50ms/step - loss: 3.0840e-04 - accuracy: 1.0000 - val_loss: 0.0107 - val_accuracy: 0.9962\n",
            "Epoch 44/50\n",
            "54/54 [==============================] - 3s 50ms/step - loss: 2.9216e-04 - accuracy: 1.0000 - val_loss: 0.0115 - val_accuracy: 0.9959\n",
            "Epoch 45/50\n",
            "54/54 [==============================] - 3s 50ms/step - loss: 2.7779e-04 - accuracy: 1.0000 - val_loss: 0.0118 - val_accuracy: 0.9959\n",
            "Epoch 46/50\n",
            "54/54 [==============================] - 3s 51ms/step - loss: 2.6112e-04 - accuracy: 1.0000 - val_loss: 0.0116 - val_accuracy: 0.9958\n",
            "Epoch 47/50\n",
            "54/54 [==============================] - 3s 50ms/step - loss: 2.4773e-04 - accuracy: 1.0000 - val_loss: 0.0126 - val_accuracy: 0.9956\n",
            "Epoch 48/50\n",
            "54/54 [==============================] - 3s 50ms/step - loss: 2.3655e-04 - accuracy: 1.0000 - val_loss: 0.0112 - val_accuracy: 0.9962\n",
            "Epoch 49/50\n",
            "54/54 [==============================] - 3s 50ms/step - loss: 2.2143e-04 - accuracy: 1.0000 - val_loss: 0.0117 - val_accuracy: 0.9963\n",
            "Epoch 50/50\n",
            "54/54 [==============================] - 3s 51ms/step - loss: 2.1159e-04 - accuracy: 1.0000 - val_loss: 0.0121 - val_accuracy: 0.9957\n"
          ]
        }
      ]
    },
    {
      "cell_type": "markdown",
      "source": [
        ">>The dense wide neural network is trained using the training dataset which was already preprocessed to produce better results."
      ],
      "metadata": {
        "id": "CFmMjBSpTH9e"
      }
    },
    {
      "cell_type": "markdown",
      "source": [
        "## Model Analysis and Evaluation\n",
        "\n",
        ">The loss and the accuracy of the predictions from the test set of the training data are calculated using the evaluate function. The accuracy score is printed below. The training accuracy is 0.982, and the loss is 0.121."
      ],
      "metadata": {
        "id": "ggG2IsYhb1_4"
      }
    },
    {
      "cell_type": "code",
      "source": [
        "#Evalute the accuracy of the trained model\n",
        "accuracy_test = wide_model.evaluate(X_test, y_test)\n",
        "print(accuracy_test)\n"
      ],
      "metadata": {
        "colab": {
          "base_uri": "https://localhost:8080/"
        },
        "id": "6GPFkjF7Bhd3",
        "outputId": "9190993c-b55e-40f4-84d7-443b8b28c95e"
      },
      "execution_count": null,
      "outputs": [
        {
          "output_type": "stream",
          "name": "stdout",
          "text": [
            "822/822 [==============================] - 2s 2ms/step - loss: 0.0119 - accuracy: 0.9957\n",
            "[0.011886833235621452, 0.9957006573677063]\n"
          ]
        }
      ]
    },
    {
      "cell_type": "code",
      "source": [
        "# Plot the training loss and validation loss\n",
        "loss = history.history['loss']\n",
        "val_loss = history.history['val_loss']\n",
        "epochs = range(1, len(loss)+1)\n",
        "plt.plot(epochs, loss, 'y', label='Training Loss')\n",
        "plt.plot(epochs, val_loss, 'r', label='Validation Loss')\n",
        "plt.title('Training and Validation Loss')\n",
        "plt.xlabel('Epochs')\n",
        "plt.ylabel('Loss')\n",
        "plt.legend()\n",
        "plt.show()"
      ],
      "metadata": {
        "id": "VQBPgM8qrAwn",
        "colab": {
          "base_uri": "https://localhost:8080/",
          "height": 295
        },
        "outputId": "d3e597a6-3314-4545-e3d6-14aa688b973c"
      },
      "execution_count": null,
      "outputs": [
        {
          "output_type": "display_data",
          "data": {
            "text/plain": [
              "<Figure size 432x288 with 1 Axes>"
            ],
            "image/png": "[encoded data removed]"
          },
          "metadata": {
            "needs_background": "light"
          }
        }
      ]
    },
    {
      "cell_type": "markdown",
      "source": [
        ">>The training loss and validation loss are plotted above. we can ovbserve that they are almost similar. But the curve is  smmoth, therefore there is no over fitting.  "
      ],
      "metadata": {
        "id": "rpAwcUvds9UZ"
      }
    },
    {
      "cell_type": "code",
      "source": [
        "# Plot the training accuracy and validation accuracy\n",
        "acc = history.history['accuracy']\n",
        "val_acc = history.history['val_accuracy']\n",
        "plt.plot(epochs, acc, 'y', label='Training Accuracy')\n",
        "plt.plot(epochs, val_acc, 'r', label='Validation Accuracy')\n",
        "plt.title('Training and Validation Accuracy')\n",
        "plt.xlabel('Epochs')\n",
        "plt.ylabel('Accuracy')\n",
        "plt.legend()\n",
        "plt.show()"
      ],
      "metadata": {
        "id": "eAccEydMrCXS",
        "colab": {
          "base_uri": "https://localhost:8080/",
          "height": 295
        },
        "outputId": "264b1812-9c85-411d-f8d5-3963b0e775a7"
      },
      "execution_count": null,
      "outputs": [
        {
          "output_type": "display_data",
          "data": {
            "text/plain": [
              "<Figure size 432x288 with 1 Axes>"
            ],
            "image/png": "[encoded data removed]"
          },
          "metadata": {
            "needs_background": "light"
          }
        }
      ]
    },
    {
      "cell_type": "markdown",
      "source": [
        ">>The training accuracy and validation accuracy are plotted above. we can observe that they are almost similar. But the curve is  smooth, therefore there is no over fitting. "
      ],
      "metadata": {
        "id": "Y3umVAKgs-uz"
      }
    },
    {
      "cell_type": "markdown",
      "source": [
        "## Hyper Parameter Tuning\n",
        "\n",
        "><p align= \"Justify\">Hyper parameter tuning is pertinent to any machine learning model. Ignoring this step would lead us to suboptimal results and maximum loss, leading to more predictions errors. We performed hyperparameter tuning on dropout rate, regularisation parameter, batch size, epochs and activation using the grid search function from scikit learn."
      ],
      "metadata": {
        "id": "HR06LE4ZbTLw"
      }
    },
    {
      "cell_type": "code",
      "source": [
        "#Hyper-parameters tuning \n",
        "#Import necessary packages\n",
        "\n",
        "import numpy\n",
        "from sklearn.model_selection import GridSearchCV\n",
        "from keras.models import Sequential\n",
        "from keras.layers import Dense\n",
        "from keras.layers import Dropout\n",
        "from keras.wrappers.scikit_learn import KerasClassifier\n",
        "\n",
        "\n",
        "# Create a function tune_model for hyperparameter tuning\n",
        "def tune_model(l = 0.0,dropout_rate = 0.0, activation=\"relu\"):\n",
        "  reg_l2 = keras.regularizers.l2(l)\n",
        "  model = Sequential()\n",
        "  model.add(Dense(500,  input_dim=59))\n",
        "  model.add(Dropout((dropout_rate)))\n",
        "  model.add(Dense(500,activation=activation,kernel_regularizer=reg_l2))\n",
        "  model.add(Dropout((dropout_rate)))\n",
        "  model.add(Dense(13, activation=\"softmax\"))                               \n",
        "  \n",
        "  #Compile the deep neural network with loss function, optimiser and metrics for backpropagation\n",
        "  model.compile(loss='sparse_categorical_crossentropy', optimizer=tf.keras.optimizers.Adam(learning_rate=1e-3), metrics=['accuracy'])\n",
        "\n",
        "  return model\n",
        "\n",
        "# create a classifier model\n",
        "model = KerasClassifier(build_fn=tune_model,epochs=epochs,verbose=1)\n",
        "\n",
        "# define the parameters for performing grid search\n",
        "batch_size = [32,64, 128, 256, 512, 1024]\n",
        "dropout_rate = [ 0, 0.01, 0.05, 0.1, 0.2, 0.5]\n",
        "l = [0, 0.01, 0.05, 0.1, 0.2, 0.5]\n",
        "activation = ['sgd','tanh','relu']\n",
        "epochs = [10,25,50,75,100]\n",
        "parameter_grid= dict(dropout_rate=dropout_rate,l=l,batch_size=batch_size,activation=activation,epochs=epochs)\n",
        "\n",
        "\n",
        "#Define input parameters for the grid search function\n",
        "grid = GridSearchCV(estimator=model, param_grid=parameter_grid, n_jobs=-1, cv=3)\n",
        "\n",
        "\n",
        "#Note: The below statements takes minutes to run therefore if necessary uncomment the statement and run the cell\n",
        "\n",
        "#Fit the classifier with testing and training dataset.\n",
        "#grid_result = grid.fit(X_train, y_train)\n",
        "\n",
        "# summarize results\n",
        "#print(\"Best: %f using %s\" % (grid_result.best_score_, grid_result.best_params_))\n",
        "\n",
        "print('Note:The hyper parameter tuning takes minutes to run so it has been commented in this code cell. if you want to verify, uncomment the statement and run the cell')\n",
        "\n"
      ],
      "metadata": {
        "colab": {
          "base_uri": "https://localhost:8080/"
        },
        "id": "Tm7kNLribSzK",
        "outputId": "40c55d12-e41f-4777-8876-91904556ea7a"
      },
      "execution_count": null,
      "outputs": [
        {
          "output_type": "stream",
          "name": "stdout",
          "text": [
            "Note:The hyper parameter tuning takes minutes to run so it has been commented in this code cell. if you want to verify, uncomment the statement and run the cell\n"
          ]
        },
        {
          "output_type": "stream",
          "name": "stderr",
          "text": [
            "/usr/local/lib/python3.7/dist-packages/ipykernel_launcher.py:28: DeprecationWarning: KerasClassifier is deprecated, use Sci-Keras (https://github.com/adriangb/scikeras) instead. See https://www.adriangb.com/scikeras/stable/migration.html for help migrating.\n"
          ]
        }
      ]
    },
    {
      "cell_type": "markdown",
      "source": [
        ">>Note:The hyper parameters tuning takes several minutes to run so it has been commented in this code cell. if you want to verify, uncomment the statement and run the cell\n",
        "\n"
      ],
      "metadata": {
        "id": "9zu5UM08TZeb"
      }
    },
    {
      "cell_type": "markdown",
      "source": [
        "## Prediction\n",
        "\n",
        "><p align= \"Justify\">The final prediction using the test dataset is done below, and grades are written to the test data file. This is submitted on kaggle to obtain our score. This is discussed in the results and discussion section of this notebook."
      ],
      "metadata": {
        "id": "N0lDUiq6aUaM"
      }
    },
    {
      "cell_type": "code",
      "source": [
        "#Predict the Testset using the trained deep neural network\n",
        "\n",
        "# Load the test file\n",
        "test = pd.read_csv(\"test.csv\")\n",
        "\n",
        "#Copy the test file and perform onehot encoding for the test dataset attributes\n",
        "test_copy = pd.read_csv('test.csv')\n",
        "array = ['school','sex','address','famsize','Pstatus','Mjob','Fjob','reason','guardian','schoolsup','famsup','paid','activities','nursery','higher','internet','romantic'] \n",
        "\n",
        "for x in array:\n",
        "  test_copy = pd.get_dummies(test_copy, columns=[x])\n",
        "\n",
        "#Import the necessary packages for scaling the test dataset\n",
        "from sklearn.preprocessing import StandardScaler\n",
        "std_scaler = StandardScaler()\n",
        "test_scaled = std_scaler.fit_transform(test_copy) # fit the test_copy\n",
        "\n",
        "#Predict the grades of the students in the test dataset.\n",
        "pred = wide_model.predict(test_scaled) \n",
        "df = pd.DataFrame(pred)\n",
        "test['Grade'] = df.idxmax(axis = 1)+5\n",
        "\n",
        "#Print the predicted grades\n",
        "print(test['Grade'])\n",
        "\n",
        "# load the final predicted pop into original test file\n",
        "#Note: The below statement is commented so that the code can run multiple times without the need to load the test dataset again \n",
        "#test.to_csv(\"test.csv\") \n",
        "\n"
      ],
      "metadata": {
        "id": "hIMH7ex8Wzm7",
        "colab": {
          "base_uri": "https://localhost:8080/"
        },
        "outputId": "37428012-4467-4b5c-c32d-78cea5af7980"
      },
      "execution_count": null,
      "outputs": [
        {
          "output_type": "stream",
          "name": "stdout",
          "text": [
            "0       9\n",
            "1       9\n",
            "2       9\n",
            "3       9\n",
            "4       9\n",
            "       ..\n",
            "96      9\n",
            "97      7\n",
            "98      9\n",
            "99     10\n",
            "100    10\n",
            "Name: Grade, Length: 101, dtype: int64\n"
          ]
        }
      ]
    },
    {
      "cell_type": "code",
      "source": [
        "#Plot the predicted grades of the test dataset\n",
        "sns.countplot(x=\"Grade\", data=test)"
      ],
      "metadata": {
        "id": "U2hf0IFgYho3",
        "colab": {
          "base_uri": "https://localhost:8080/",
          "height": 297
        },
        "outputId": "6acfea1d-b345-45d7-d586-bbad2c9f0fe6"
      },
      "execution_count": null,
      "outputs": [
        {
          "output_type": "execute_result",
          "data": {
            "text/plain": [
              "<matplotlib.axes._subplots.AxesSubplot at 0x7fdc034bdb10>"
            ]
          },
          "metadata": {},
          "execution_count": 40
        },
        {
          "output_type": "display_data",
          "data": {
            "text/plain": [
              "<Figure size 432x288 with 1 Axes>"
            ],
            "image/png": "[encoded data removed]"
          },
          "metadata": {
            "needs_background": "light"
          }
        }
      ]
    },
    {
      "cell_type": "markdown",
      "source": [
        ">>We can observe the predictions of the test set by the dense Wide neural network model. We can see that the 9 has the most predictions. This is because the training dataset has the most instances of grade 9. we can also see other grade predictions in the plot above."
      ],
      "metadata": {
        "id": "PQfSMrXTUOZH"
      }
    },
    {
      "cell_type": "markdown",
      "source": [
        "# Encoder-Decoder Model\n",
        "\n",
        "><p align= \"Justify\">The Encoder-Decoder model is designed to act like autoencoders models. This architecture consists of an encoder at the input and a decoder at the output. The data is reconstructed to fewer nodes and deconstructed back to the output. Although the implementation does not use autoencoders since we don't have an unlabeled dataset which autoencoders work best for. The dense neural network designed below should behave like an autoencoder. "
      ],
      "metadata": {
        "id": "TgIGORU_Ujb5"
      }
    },
    {
      "cell_type": "markdown",
      "source": [
        "## Model Description \n",
        "\n",
        "><p align= \"Justify\">The model contains an encoder and a decoder. The encoder is placed at the input with 32 neurons and two hidden layers with 16 and 8 neurons. The decoder part has two hidden layers with 6 and 16 neurons, and the output layer has 20 neurons, each corresponding to grades from 0-to 20. The model consists of 3140 parameters to be trained. The output layer is set to softmax to perform multiclass classification. Each neuron returns the probability distribution of that neuron, and the highest probability is classified. \n",
        "\n",
        "The hyperparameters that were tuned for this model were:\n",
        "\n",
        "* Activation\n",
        "* Dropout Rate\n",
        "* Optimiser\n",
        "* Loss function\n",
        "\n",
        "\n",
        "><p align= \"Justify\">The hyperparameter tuning is performed in the upcoming cell, and this is done by mounting the model in the function tune model and performing a grid search. The hidden layers use the relu activation function because it does not activate all neurons and therefore is faster to compute while keeping the accuracy high. We trained the model using other activations like sigmoid and tanh, but relu consistently performed better. The dropout is introduced to modify the network while teaching instead of changing the optimiser or loss function. The dropout layer has a parameter dropout rate. This decides what per cent of neurons are dropped while training.\n",
        "\n",
        "><p align= \"Justify\">Sparse categorical cross-entropy is used for loss function in this model. Although categorical cross-entropy is used for multiclass classification, the target attribute \"Grade\" is label encoded instead of one-hot encoding sparse categorical entropy. The Adam Optimiser function is used in this model after it produced the best accuracy while performing hyperparameter tuning. This could be because the weights are invariable to the changing gradient, and it is much faster and less computationally expensive. We tested the model using other optimisers like rmsprop, sgd, adagrad and adadelta, but adam produced much better accuracy while training. The metric used for loss calculation is accuracy. Though accuracy is not ideal for an imbalanced dataset like the one we have, it performed well enough for this particular dataset. The ideal learning rate is 0.0001 \n",
        "\n",
        "\n",
        "\n"
      ],
      "metadata": {
        "id": "gpOp36Xjc-oQ"
      }
    },
    {
      "cell_type": "code",
      "source": [
        "\n",
        "#Import the necessary packages for the Encoder-Decoder model\n",
        "import pandas\n",
        "from keras.models import Sequential\n",
        "from keras.layers import Dense\n",
        "from keras.activations import relu\n",
        "from keras.losses import sparse_categorical_crossentropy\n",
        "\n",
        "\n",
        "#Assign the dropout rate\n",
        "dr = 0.1\n",
        "\n",
        "\n",
        "#the Multi Layer Perceptron network model\n",
        "Ed_model = keras.models.Sequential([\n",
        "    #Encoder                                 \n",
        "    keras.layers.Dense(32, input_dim=59),\n",
        "    keras.layers.Dense(16, activation='relu'),\n",
        "    keras.layers.Dense(8, activation='relu'),\n",
        "    keras.layers.Dropout((dr)),\n",
        "    #Decoder\n",
        "    keras.layers.Dense(8, activation='relu'),\n",
        "    keras.layers.Dense(16, activation='relu'),\n",
        "    keras.layers.Dense(20, activation=\"softmax\")\n",
        "])\n",
        "\n",
        "#Compile the wide neural network with loss function, optimiser and metrics for backpropagation \n",
        "Ed_model.compile(loss=\"sparse_categorical_crossentropy\", optimizer=\"adam\",metrics=[\"accuracy\"])\n",
        "\n",
        " \n",
        "#Print the model summary\n",
        "print(Ed_model.summary())\n",
        "\n"
      ],
      "metadata": {
        "colab": {
          "base_uri": "https://localhost:8080/"
        },
        "id": "0-ut_WE_q48j",
        "outputId": "2b775053-8ee4-4af8-d4e7-b95a1da8d4b4"
      },
      "execution_count": null,
      "outputs": [
        {
          "output_type": "stream",
          "name": "stdout",
          "text": [
            "Model: \"sequential_2\"\n",
            "_________________________________________________________________\n",
            " Layer (type)                Output Shape              Param #   \n",
            "=================================================================\n",
            " dense_8 (Dense)             (None, 32)                1920      \n",
            "                                                                 \n",
            " dense_9 (Dense)             (None, 16)                528       \n",
            "                                                                 \n",
            " dense_10 (Dense)            (None, 8)                 136       \n",
            "                                                                 \n",
            " dropout_4 (Dropout)         (None, 8)                 0         \n",
            "                                                                 \n",
            " dense_11 (Dense)            (None, 8)                 72        \n",
            "                                                                 \n",
            " dense_12 (Dense)            (None, 16)                144       \n",
            "                                                                 \n",
            " dense_13 (Dense)            (None, 20)                340       \n",
            "                                                                 \n",
            "=================================================================\n",
            "Total params: 3,140\n",
            "Trainable params: 3,140\n",
            "Non-trainable params: 0\n",
            "_________________________________________________________________\n",
            "None\n"
          ]
        }
      ]
    },
    {
      "cell_type": "markdown",
      "source": [
        ">>We declared the model and printed the model summary. We can visualise the dense layers, number of nuerons of each layer and thr total number of parameters of the model."
      ],
      "metadata": {
        "id": "MFG1aOgaTh1n"
      }
    },
    {
      "cell_type": "code",
      "source": [
        "#Display the dense neural netowork as a plot\n",
        "from tensorflow.keras.utils import plot_model\n",
        "plot_model(Ed_model,show_shapes=True)"
      ],
      "metadata": {
        "colab": {
          "base_uri": "https://localhost:8080/",
          "height": 865
        },
        "id": "iOh3FFqAEfyr",
        "outputId": "504df371-96de-48d9-f931-5980c4882d9e"
      },
      "execution_count": null,
      "outputs": [
        {
          "output_type": "execute_result",
          "data": {
            "text/plain": [
              "<IPython.core.display.Image object>"
            ],
            "image/png": "[encoded data removed]"
          },
          "metadata": {},
          "execution_count": 42
        }
      ]
    },
    {
      "cell_type": "markdown",
      "source": [
        ">>We can visualise the model using the plot_model function"
      ],
      "metadata": {
        "id": "txfbpDLETsjt"
      }
    },
    {
      "cell_type": "markdown",
      "source": [
        "## Training and Validating \n",
        "\n",
        "><p align= \"Justify\">The test and train split size used here is 70% training set and 30% testing set size. This was the best test/train split we found after testing 90/10, 80/20 and 60/40. The batch size used for training is 512. This is deduced after performing hyperparameters tuning with smaller and larger batch sizes. The smaller batch sizes led to overfitting, and the larger batch sizes generalised the training dataset leading to poor performance.\n",
        "\n",
        "><p align= \"Justify\">The model is run with the test and train sets for 50 epochs. At 50 Epochs, the model saturated and stopped learning. This was deduced using the hyperparameter tuning done below.\n",
        "\n"
      ],
      "metadata": {
        "id": "Qk4ETMeiBBJo"
      }
    },
    {
      "cell_type": "code",
      "source": [
        "#Fit the testing and training data to the deep neural network model\n",
        "history = Ed_model.fit(X_train, y_train, epochs=50, batch_size=512, validation_data=(X_valid, y_valid))\n"
      ],
      "metadata": {
        "colab": {
          "base_uri": "https://localhost:8080/"
        },
        "id": "Hbh5zPesYwHS",
        "outputId": "1f2a1665-1618-4e1d-a266-07d8152fc126"
      },
      "execution_count": null,
      "outputs": [
        {
          "output_type": "stream",
          "name": "stdout",
          "text": [
            "Epoch 1/50\n",
            "108/108 [==============================] - 1s 6ms/step - loss: 2.4728 - accuracy: 0.1548 - val_loss: 1.8614 - val_accuracy: 0.3144\n",
            "Epoch 2/50\n",
            "108/108 [==============================] - 0s 4ms/step - loss: 1.5076 - accuracy: 0.4086 - val_loss: 1.1042 - val_accuracy: 0.5495\n",
            "Epoch 3/50\n",
            "108/108 [==============================] - 0s 4ms/step - loss: 1.0431 - accuracy: 0.5729 - val_loss: 0.7633 - val_accuracy: 0.7268\n",
            "Epoch 4/50\n",
            "108/108 [==============================] - 0s 4ms/step - loss: 0.7822 - accuracy: 0.6944 - val_loss: 0.5312 - val_accuracy: 0.8467\n",
            "Epoch 5/50\n",
            "108/108 [==============================] - 0s 4ms/step - loss: 0.6282 - accuracy: 0.7708 - val_loss: 0.3884 - val_accuracy: 0.9025\n",
            "Epoch 6/50\n",
            "108/108 [==============================] - 0s 4ms/step - loss: 0.5053 - accuracy: 0.8230 - val_loss: 0.2742 - val_accuracy: 0.9406\n",
            "Epoch 7/50\n",
            "108/108 [==============================] - 0s 4ms/step - loss: 0.4167 - accuracy: 0.8548 - val_loss: 0.2062 - val_accuracy: 0.9572\n",
            "Epoch 8/50\n",
            "108/108 [==============================] - 1s 5ms/step - loss: 0.3586 - accuracy: 0.8736 - val_loss: 0.1788 - val_accuracy: 0.9619\n",
            "Epoch 9/50\n",
            "108/108 [==============================] - 0s 4ms/step - loss: 0.3323 - accuracy: 0.8800 - val_loss: 0.1508 - val_accuracy: 0.9645\n",
            "Epoch 10/50\n",
            "108/108 [==============================] - 1s 5ms/step - loss: 0.3059 - accuracy: 0.8917 - val_loss: 0.1290 - val_accuracy: 0.9739\n",
            "Epoch 11/50\n",
            "108/108 [==============================] - 0s 4ms/step - loss: 0.2863 - accuracy: 0.8974 - val_loss: 0.1207 - val_accuracy: 0.9735\n",
            "Epoch 12/50\n",
            "108/108 [==============================] - 0s 4ms/step - loss: 0.2651 - accuracy: 0.9093 - val_loss: 0.1108 - val_accuracy: 0.9758\n",
            "Epoch 13/50\n",
            "108/108 [==============================] - 0s 4ms/step - loss: 0.2532 - accuracy: 0.9145 - val_loss: 0.0998 - val_accuracy: 0.9800\n",
            "Epoch 14/50\n",
            "108/108 [==============================] - 1s 5ms/step - loss: 0.2419 - accuracy: 0.9196 - val_loss: 0.0975 - val_accuracy: 0.9769\n",
            "Epoch 15/50\n",
            "108/108 [==============================] - 0s 4ms/step - loss: 0.2287 - accuracy: 0.9241 - val_loss: 0.0848 - val_accuracy: 0.9828\n",
            "Epoch 16/50\n",
            "108/108 [==============================] - 0s 4ms/step - loss: 0.2228 - accuracy: 0.9263 - val_loss: 0.0812 - val_accuracy: 0.9806\n",
            "Epoch 17/50\n",
            "108/108 [==============================] - 0s 4ms/step - loss: 0.2115 - accuracy: 0.9321 - val_loss: 0.0720 - val_accuracy: 0.9849\n",
            "Epoch 18/50\n",
            "108/108 [==============================] - 0s 4ms/step - loss: 0.2075 - accuracy: 0.9320 - val_loss: 0.0718 - val_accuracy: 0.9822\n",
            "Epoch 19/50\n",
            "108/108 [==============================] - 0s 4ms/step - loss: 0.1993 - accuracy: 0.9334 - val_loss: 0.0697 - val_accuracy: 0.9830\n",
            "Epoch 20/50\n",
            "108/108 [==============================] - 0s 4ms/step - loss: 0.1945 - accuracy: 0.9358 - val_loss: 0.0616 - val_accuracy: 0.9853\n",
            "Epoch 21/50\n",
            "108/108 [==============================] - 0s 4ms/step - loss: 0.1910 - accuracy: 0.9375 - val_loss: 0.0621 - val_accuracy: 0.9843\n",
            "Epoch 22/50\n",
            "108/108 [==============================] - 0s 4ms/step - loss: 0.1864 - accuracy: 0.9384 - val_loss: 0.0578 - val_accuracy: 0.9867\n",
            "Epoch 23/50\n",
            "108/108 [==============================] - 0s 4ms/step - loss: 0.1778 - accuracy: 0.9421 - val_loss: 0.0574 - val_accuracy: 0.9844\n",
            "Epoch 24/50\n",
            "108/108 [==============================] - 0s 4ms/step - loss: 0.1760 - accuracy: 0.9428 - val_loss: 0.0601 - val_accuracy: 0.9853\n",
            "Epoch 25/50\n",
            "108/108 [==============================] - 0s 4ms/step - loss: 0.1696 - accuracy: 0.9449 - val_loss: 0.0563 - val_accuracy: 0.9834\n",
            "Epoch 26/50\n",
            "108/108 [==============================] - 0s 5ms/step - loss: 0.1678 - accuracy: 0.9459 - val_loss: 0.0555 - val_accuracy: 0.9863\n",
            "Epoch 27/50\n",
            "108/108 [==============================] - 0s 4ms/step - loss: 0.1665 - accuracy: 0.9456 - val_loss: 0.0520 - val_accuracy: 0.9890\n",
            "Epoch 28/50\n",
            "108/108 [==============================] - 1s 5ms/step - loss: 0.1584 - accuracy: 0.9487 - val_loss: 0.0470 - val_accuracy: 0.9896\n",
            "Epoch 29/50\n",
            "108/108 [==============================] - 0s 4ms/step - loss: 0.1550 - accuracy: 0.9494 - val_loss: 0.0447 - val_accuracy: 0.9915\n",
            "Epoch 30/50\n",
            "108/108 [==============================] - 0s 4ms/step - loss: 0.1543 - accuracy: 0.9496 - val_loss: 0.0478 - val_accuracy: 0.9877\n",
            "Epoch 31/50\n",
            "108/108 [==============================] - 0s 4ms/step - loss: 0.1524 - accuracy: 0.9502 - val_loss: 0.0443 - val_accuracy: 0.9896\n",
            "Epoch 32/50\n",
            "108/108 [==============================] - 0s 4ms/step - loss: 0.1510 - accuracy: 0.9514 - val_loss: 0.0438 - val_accuracy: 0.9912\n",
            "Epoch 33/50\n",
            "108/108 [==============================] - 1s 5ms/step - loss: 0.1437 - accuracy: 0.9531 - val_loss: 0.0442 - val_accuracy: 0.9897\n",
            "Epoch 34/50\n",
            "108/108 [==============================] - 1s 5ms/step - loss: 0.1472 - accuracy: 0.9521 - val_loss: 0.0399 - val_accuracy: 0.9913\n",
            "Epoch 35/50\n",
            "108/108 [==============================] - 0s 4ms/step - loss: 0.1432 - accuracy: 0.9527 - val_loss: 0.0435 - val_accuracy: 0.9907\n",
            "Epoch 36/50\n",
            "108/108 [==============================] - 0s 4ms/step - loss: 0.1385 - accuracy: 0.9539 - val_loss: 0.0432 - val_accuracy: 0.9894\n",
            "Epoch 37/50\n",
            "108/108 [==============================] - 0s 4ms/step - loss: 0.1412 - accuracy: 0.9533 - val_loss: 0.0390 - val_accuracy: 0.9919\n",
            "Epoch 38/50\n",
            "108/108 [==============================] - 0s 4ms/step - loss: 0.1400 - accuracy: 0.9539 - val_loss: 0.0410 - val_accuracy: 0.9910\n",
            "Epoch 39/50\n",
            "108/108 [==============================] - 0s 4ms/step - loss: 0.1367 - accuracy: 0.9550 - val_loss: 0.0376 - val_accuracy: 0.9922\n",
            "Epoch 40/50\n",
            "108/108 [==============================] - 0s 4ms/step - loss: 0.1388 - accuracy: 0.9556 - val_loss: 0.0386 - val_accuracy: 0.9916\n",
            "Epoch 41/50\n",
            "108/108 [==============================] - 0s 5ms/step - loss: 0.1342 - accuracy: 0.9562 - val_loss: 0.0409 - val_accuracy: 0.9879\n",
            "Epoch 42/50\n",
            "108/108 [==============================] - 0s 4ms/step - loss: 0.1369 - accuracy: 0.9553 - val_loss: 0.0366 - val_accuracy: 0.9933\n",
            "Epoch 43/50\n",
            "108/108 [==============================] - 0s 4ms/step - loss: 0.1341 - accuracy: 0.9565 - val_loss: 0.0410 - val_accuracy: 0.9896\n",
            "Epoch 44/50\n",
            "108/108 [==============================] - 1s 5ms/step - loss: 0.1293 - accuracy: 0.9580 - val_loss: 0.0379 - val_accuracy: 0.9902\n",
            "Epoch 45/50\n",
            "108/108 [==============================] - 0s 4ms/step - loss: 0.1289 - accuracy: 0.9604 - val_loss: 0.0399 - val_accuracy: 0.9905\n",
            "Epoch 46/50\n",
            "108/108 [==============================] - 0s 5ms/step - loss: 0.1279 - accuracy: 0.9577 - val_loss: 0.0419 - val_accuracy: 0.9907\n",
            "Epoch 47/50\n",
            "108/108 [==============================] - 1s 5ms/step - loss: 0.1266 - accuracy: 0.9582 - val_loss: 0.0361 - val_accuracy: 0.9926\n",
            "Epoch 48/50\n",
            "108/108 [==============================] - 0s 4ms/step - loss: 0.1250 - accuracy: 0.9594 - val_loss: 0.0381 - val_accuracy: 0.9887\n",
            "Epoch 49/50\n",
            "108/108 [==============================] - 0s 4ms/step - loss: 0.1221 - accuracy: 0.9600 - val_loss: 0.0312 - val_accuracy: 0.9932\n",
            "Epoch 50/50\n",
            "108/108 [==============================] - 0s 4ms/step - loss: 0.1213 - accuracy: 0.9605 - val_loss: 0.0348 - val_accuracy: 0.9924\n"
          ]
        }
      ]
    },
    {
      "cell_type": "markdown",
      "source": [
        ">>The dense encoder-decoder neural network is trained using the training dataset which was already preprocessed to produce better results."
      ],
      "metadata": {
        "id": "PqiQCz8bTybR"
      }
    },
    {
      "cell_type": "markdown",
      "source": [
        "## Model Analysis and Evaluation\n",
        "\n",
        "><p align= \"Justify\">The loss and the accuracy of the predictions from the test set of the training data are calculated using the evaluate function. The accuracy score is printed below. The training accuracy is 0.991, and the loss is 0.028."
      ],
      "metadata": {
        "id": "Y3uZvqZCbqBv"
      }
    },
    {
      "cell_type": "code",
      "source": [
        "\n",
        "accuracy_test = Ed_model.evaluate(X_test, y_test)\n",
        "print(accuracy_test)\n",
        "\n",
        "\n"
      ],
      "metadata": {
        "colab": {
          "base_uri": "https://localhost:8080/"
        },
        "id": "gXL5XNqaBpcR",
        "outputId": "dea26c44-ddb1-4f6a-98b8-7a847acba691"
      },
      "execution_count": null,
      "outputs": [
        {
          "output_type": "stream",
          "name": "stdout",
          "text": [
            "822/822 [==============================] - 1s 1ms/step - loss: 0.0334 - accuracy: 0.9933\n",
            "[0.03336071968078613, 0.9933416843414307]\n"
          ]
        }
      ]
    },
    {
      "cell_type": "code",
      "source": [
        "# Plot the training loss and validation loss\n",
        "loss = history.history['loss']\n",
        "val_loss = history.history['val_loss']\n",
        "epochs = range(1, len(loss)+1)\n",
        "plt.plot(epochs, loss, 'y', label='Training Loss')\n",
        "plt.plot(epochs, val_loss, 'r', label='Validation Loss')\n",
        "plt.title('Training and Validation Loss')\n",
        "plt.xlabel('Epochs')\n",
        "plt.ylabel('Loss')\n",
        "plt.legend()\n",
        "plt.show()"
      ],
      "metadata": {
        "colab": {
          "base_uri": "https://localhost:8080/",
          "height": 295
        },
        "id": "6oXGAN0IY-KY",
        "outputId": "0b0ac079-2a4c-4abe-f396-bf5e73400d1c"
      },
      "execution_count": null,
      "outputs": [
        {
          "output_type": "display_data",
          "data": {
            "text/plain": [
              "<Figure size 432x288 with 1 Axes>"
            ],
            "image/png": "[encoded data removed]"
          },
          "metadata": {
            "needs_background": "light"
          }
        }
      ]
    },
    {
      "cell_type": "markdown",
      "source": [
        ">>The training loss and validation loss are plotted above. we can ovbserve that they are similar. Therefore, there is no over fitting.  "
      ],
      "metadata": {
        "id": "x9-5b03itDgP"
      }
    },
    {
      "cell_type": "code",
      "source": [
        "# Plot the training accuracy and validation accuracy\n",
        "acc = history.history['accuracy']\n",
        "val_acc = history.history['val_accuracy']\n",
        "plt.plot(epochs, acc, 'y', label='Training Accuracy')\n",
        "plt.plot(epochs, val_acc, 'r', label='Validation Accuracy')\n",
        "plt.title('Training and Validation Accuracy')\n",
        "plt.xlabel('Epochs')\n",
        "plt.ylabel('Accuracy')\n",
        "plt.legend()\n",
        "plt.show()"
      ],
      "metadata": {
        "colab": {
          "base_uri": "https://localhost:8080/",
          "height": 295
        },
        "id": "CwsvYjOUY_6m",
        "outputId": "bb3a4093-ff02-487a-f4e6-dd9ac8d27cd6"
      },
      "execution_count": null,
      "outputs": [
        {
          "output_type": "display_data",
          "data": {
            "text/plain": [
              "<Figure size 432x288 with 1 Axes>"
            ],
            "image/png": "[encoded data removed]"
          },
          "metadata": {
            "needs_background": "light"
          }
        }
      ]
    },
    {
      "cell_type": "markdown",
      "source": [
        ">>The training accuracy and validation accuracy are plotted above. we can ovbserve that they are almost similar. Therefore, there is no over fitting.  "
      ],
      "metadata": {
        "id": "Ze0VndnMtEnX"
      }
    },
    {
      "cell_type": "markdown",
      "source": [
        "## Hyper Parameter Tuning\n",
        "\n",
        "><p align= \"Justify\">Hyper parameter tuning is pertinent to any machine learning model. Ignoring this step would lead us to suboptimal results and maximum loss, leading to more predictions errors. We performed hyperparameter tuning on dropout rate, batch size, epochs and activation using the grid search function from scikit learn."
      ],
      "metadata": {
        "id": "eC9u14AGbjhE"
      }
    },
    {
      "cell_type": "code",
      "source": [
        "#Hyper-parameters tuning \n",
        "\n",
        "#Import necessary packages\n",
        "import numpy\n",
        "from sklearn.model_selection import GridSearchCV\n",
        "from keras.models import Sequential\n",
        "from keras.layers import Dense\n",
        "from keras.layers import Dropout\n",
        "from keras.wrappers.scikit_learn import KerasClassifier\n",
        "\n",
        "\n",
        "# Create a function tune_model for hyperparameter tuning\n",
        "def tune_model(dropout_rate = 0.0,activation='sgd' ):\n",
        "  model = Sequential()\n",
        "  #Encoder\n",
        "  model.add(Dense(32,  input_dim=59))\n",
        "  model.add(Dropout((dropout_rate)))\n",
        "  model.add(Dense(16, activation=activation))\n",
        "  model.add(Dropout((dropout_rate)))\n",
        "  model.add(Dense(8, activation=activation))\n",
        "  model.add(Dropout((dropout_rate)))\n",
        "  model.add(Dense(8, activation=activation))\n",
        "  model.add(Dropout((dropout_rate)))\n",
        "  model.add(Dense(16, activation=activation))\n",
        "  model.add(Dropout((dropout_rate)))\n",
        "  model.add(Dense(20, activation=\"softmax\"))                               \n",
        "  \n",
        "  #Compile the encoder-decoder neural network with loss function, optimiser and metrics for backpropagation\n",
        "  model.compile(loss='sparse_categorical_crossentropy', optimizer=\"adam\", metrics=['accuracy'])\n",
        "\n",
        "  return model\n",
        "\n",
        "\n",
        "# create a classifier model\n",
        "model = KerasClassifier(build_fn=tune_model,epochs=epochs,verbose=1)\n",
        "\n",
        "# define the parameters for performing grid search\n",
        "batch_size = [32,64, 128, 256, 512, 1024]\n",
        "dropout_rate = [ 0, 0.01, 0.05, 0.1, 0.2, 0.5]\n",
        "activation = ['sgd','tanh','relu']\n",
        "epochs = [10,25,50,75,100]\n",
        "parameter_grid= dict(dropout_rate=dropout_rate,batch_size=batch_size,activation=activation,epochs=epochs)\n",
        "\n",
        "#Define input parameters for the grid search function\n",
        "grid = GridSearchCV(estimator=model, param_grid=parameter_grid, n_jobs=-1, cv=3)\n",
        "\n",
        "#Note: The below statements takes several minutes to run therefore if necessary uncomment the statement and run the cell\n",
        "\n",
        "#Fit the classifier with testing and training dataset.\n",
        "#grid_result = grid.fit(X_train, y_train)\n",
        "\n",
        "# summarize results\n",
        "#print(\"Best: %f using %s\" % (grid_result.best_score_, grid_result.best_params_))\n",
        "\n",
        "print('Note:The hyper parameter tuning takes minutes to run so it has been commented in this code cell. if you want to verify, uncomment the statement and run the cell')"
      ],
      "metadata": {
        "colab": {
          "base_uri": "https://localhost:8080/"
        },
        "id": "w7VUZTDqbnT6",
        "outputId": "8aeab1a9-de4a-4753-92aa-fa1ddead6683"
      },
      "execution_count": null,
      "outputs": [
        {
          "output_type": "stream",
          "name": "stdout",
          "text": [
            "Note:The hyper parameter tuning takes minutes to run so it has been commented in this code cell. if you want to verify, uncomment the statement and run the cell\n"
          ]
        },
        {
          "output_type": "stream",
          "name": "stderr",
          "text": [
            "/usr/local/lib/python3.7/dist-packages/ipykernel_launcher.py:35: DeprecationWarning: KerasClassifier is deprecated, use Sci-Keras (https://github.com/adriangb/scikeras) instead. See https://www.adriangb.com/scikeras/stable/migration.html for help migrating.\n"
          ]
        }
      ]
    },
    {
      "cell_type": "markdown",
      "source": [
        ">>Note:The hyper parameter tuning takes several minutes to run so it has been commented in this code cell. if you want to verify, uncomment the statement and run the cell\n"
      ],
      "metadata": {
        "id": "tZhqrA1KUHkB"
      }
    },
    {
      "cell_type": "markdown",
      "source": [
        "## Prediction\n",
        "\n",
        "><p align= \"Justify\">The final prediction using the test dataset is done below, and grades are written to the test data file. This is submitted on kaggle to obtain our score. This is discussed in the results and discussion section of this notebook."
      ],
      "metadata": {
        "id": "NyArGAiyagio"
      }
    },
    {
      "cell_type": "code",
      "source": [
        "#Predict the Testset using the trained deep neural network\n",
        "\n",
        "# Load the test file\n",
        "test = pd.read_csv(\"test.csv\")\n",
        "\n",
        "#Copy the test file and perform onehot encoding for the test dataset attributes\n",
        "test_copy = pd.read_csv('test.csv')\n",
        "array = ['school','sex','address','famsize','Pstatus','Mjob','Fjob','reason','guardian','schoolsup','famsup','paid','activities','nursery','higher','internet','romantic'] \n",
        "\n",
        "for x in array:\n",
        "  test_copy = pd.get_dummies(test_copy, columns=[x])\n",
        "\n",
        "#Import the necessary packages for scaling the test dataset\n",
        "from sklearn.preprocessing import StandardScaler\n",
        "std_scaler = StandardScaler()\n",
        "test_scaled = std_scaler.fit_transform(test_copy) # fit the test_copy\n",
        "\n",
        "#Predict the grades of the students in the test dataset.\n",
        "pred = Ed_model.predict(test_scaled) \n",
        "df = pd.DataFrame(pred)\n",
        "test['Grade'] = df.idxmax(axis = 1)+5\n",
        "\n",
        "#Print the predicted grades\n",
        "print(test['Grade'])\n",
        "\n",
        "# load the final predicted pop into original test file\n",
        "#Note: The below statement is commented so that the code can run multiple times without the need to load the test dataset again \n",
        "#test.to_csv(\"test.csv\") \n",
        "\n"
      ],
      "metadata": {
        "colab": {
          "base_uri": "https://localhost:8080/"
        },
        "id": "7LVw5VNEZE2y",
        "outputId": "2dc37f4b-456f-45b3-ea43-a4bf2abc76e0"
      },
      "execution_count": null,
      "outputs": [
        {
          "output_type": "stream",
          "name": "stdout",
          "text": [
            "0       9\n",
            "1       9\n",
            "2       9\n",
            "3       9\n",
            "4       9\n",
            "       ..\n",
            "96      9\n",
            "97      7\n",
            "98      9\n",
            "99     10\n",
            "100    10\n",
            "Name: Grade, Length: 101, dtype: int64\n"
          ]
        }
      ]
    },
    {
      "cell_type": "code",
      "source": [
        "#Plot the predicted grades of the test dataset\n",
        "sns.countplot(x=\"Grade\", data=test)"
      ],
      "metadata": {
        "colab": {
          "base_uri": "https://localhost:8080/",
          "height": 298
        },
        "id": "DxLhsFFeZMyr",
        "outputId": "c6cf95c9-d538-40c9-d624-547821ba4fb3"
      },
      "execution_count": null,
      "outputs": [
        {
          "output_type": "execute_result",
          "data": {
            "text/plain": [
              "<matplotlib.axes._subplots.AxesSubplot at 0x7fdc03ca5e90>"
            ]
          },
          "metadata": {},
          "execution_count": 49
        },
        {
          "output_type": "display_data",
          "data": {
            "text/plain": [
              "<Figure size 432x288 with 1 Axes>"
            ],
            "image/png": "[encoded data removed]"
          },
          "metadata": {
            "needs_background": "light"
          }
        }
      ]
    },
    {
      "cell_type": "markdown",
      "source": [
        ">>We can observe the predictions of the test set by the dense, deep learning model. We can see that the 9 has the most predictions. This is because the training dataset has the most instances of grade 9. we can also see other grade predictions in the plot above."
      ],
      "metadata": {
        "id": "1tw4tehYUdOB"
      }
    },
    {
      "cell_type": "markdown",
      "source": [
        "# Results and Discussion\n",
        "><p align= \"Justify\">For this multiclass classification task, the deep learning models used here are a dense deep neural network with adam optimiser and relu activation, a wide neural network and an encoder-decoder neural network. All the network parameters are tuned by performing hyperparameters tuning using grid search. The final parameters set for the respective models produce the best training accuracy with minimal loss and avoid the problem of overfitting. The data preprocessing includes encoding the categorical data, outliers removal and scaling and sampling the dataset. The hyperparameters tuning is performed using grid search and returns the best parameters for each model. The performance metric used here for training is accuracy, even though it's not the optimal metric for accuracy. We can use the F1 score or AUC as it handles the error better than accuracy.\n",
        "\n",
        "\n",
        "\n",
        "\n",
        "|Architecture|Loss|Training Accuracy| Kaggle Score|\n",
        "|------------|----|-----------------|-------------|\n",
        "|Random Forest|0.678|0.823|0.56|\n",
        "|Dense Deep Neural Network|0.112|0.991|0.96|\n",
        "|Wide Neural Network|0.012|0.996|0.87|\n",
        "|Encoder-Decoder Network|0.02|0.994|0.92|\n",
        "\n",
        "><p align= \"Justify\">The table above demonstrates the training accuracy, loss and the Kaggle score of the best configuration of each neural network model. The Kaggle calculates the F1 score of the predictions. This looks for good precision and recalls score. The standard machine learning model performs decently on the training but produces a suboptimal Kaggle score. This was an expected outcome because the deep learning model can be tuned better to prof=duce better results even with a large dataset. The dense deep neural network works well after performing scaling and oversampling of the minority classes. The regularisation parameter and initialiser helped reduce the overfitting problem and improve the kaggle prediction score. The wide neural network does not perform better than the deep neural network model and slightly overfits the data. This is reflected on the kaggle score as well. The encoder-decoder model performs on par with the deep neural network, but the kaggle score is slightly lower. The encoder-decoder model also predicts the most number of classes among all these models. This could mean that it is better equipped when scaled for bigger size datasets. "
      ],
      "metadata": {
        "id": "SIT-yb95hhj4"
      }
    },
    {
      "cell_type": "markdown",
      "source": [
        "# Conclusion\n",
        "\n",
        "><p align= \"Justify\">Finally, recommend that the dense deep model be used for this student grade prediction To improve the model we can use one-hot encoding for the target feature \"Grade\" and use categorical cross entropy as it makes better predictions than label encoding the target feature and sparse categorical crossentropy. We performed all the task requirements successfully and gained deeper understanding on deep learning models. "
      ],
      "metadata": {
        "id": "Xdh2S-ysdOWI"
      }
    },
    {
      "cell_type": "markdown",
      "source": [
        "# References\n",
        "\n",
        "\n",
        "\n",
        "1. ATKIN, G., 2022. 🎧 Spotify Song Popularity Prediction (Outliers). [online] Kaggle.com. Available at: https://www.kaggle.com/code/gcdatkin/spotify-song-popularity-prediction-outliers/notebook [Accessed 26 March 2022].\n",
        "\n",
        "\n",
        "2. GRUBBS, F. E. 1969. Procedures for Detecting Outlying Observations in Samples. Technometrics, 11, 1-21.\n",
        "\n",
        "3. GÉRON, A. 2019. Hands-On Machine Learning with Scikit-Learn, Keras, and TensorFlow, 2nd Edition, @OReillyMedia.\n",
        "\n",
        "4. Google Cloud. 2022. Overview of hyperparameter tuning | AI Platform Training | Google Cloud. [online] Available at: https://cloud.google.com/ai-platform/training/docs/hyperparameter-tuning-overview [Accessed 10 April 2022].\n",
        "\n",
        "5. KACHOUIE, N. N. & DEEBANI, W. 2020. Association Factor for Identifying Linear and Nonlinear Correlations in Noisy Conditions. ENTROPY-SWITZ, 22, 440.\n",
        "\n",
        "6. Nguyen, T., Raghu, M. and Kornblith, S., 2020. Do wide and deep networks learn the same things? uncovering how neural network representations vary with width and depth. arXiv preprint arXiv:2010.15327.\n",
        "\n",
        "7. https://towardsdatascience.com/optimizers-for-training-neural-network-59450d71caf6\n",
        "\n",
        "8. Aly, M., 2005. Survey on multiclass classification methods. Neural Netw, 19(1-9), p.2.\n",
        "\n",
        "9. Huang, G.B., Zhou, H., Ding, X. and Zhang, R., 2011. Extreme learning machine for regression and multiclass classification. IEEE Transactions on Systems, Man, and Cybernetics, Part B (Cybernetics), 42(2), pp.513-529.\n",
        "\n",
        "10. Iqbal, Z., Qadir, J., Mian, A.N. and Kamiran, F., 2017. Machine learning based student grade prediction: A case study. arXiv preprint arXiv:1708.08744.\n"
      ],
      "metadata": {
        "id": "eqN1njJudRmf"
      }
    }
  ]
}